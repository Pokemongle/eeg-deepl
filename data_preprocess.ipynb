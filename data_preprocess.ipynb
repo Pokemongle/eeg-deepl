{
 "cells": [
  {
   "cell_type": "markdown",
   "id": "1f3f61f3",
   "metadata": {},
   "source": [
    "# 1. Necessary Headfiles"
   ]
  },
  {
   "cell_type": "code",
   "execution_count": 8,
   "id": "3c52b7b3",
   "metadata": {},
   "outputs": [],
   "source": [
    "import torch\n",
    "import torchvision\n",
    "# from torch.utils.tensorboard import SummaryWriter\n",
    "import time\n",
    "from torch import nn\n",
    "from torch.utils.data import DataLoader\n",
    "from load_data import MyData  # self-made\n",
    "from torchvision import transforms\n",
    "from tqdm import tqdm_notebook as tqdm # View procedure\n",
    "import os\n",
    "import scipy.io\n",
    "from random import random\n",
    "import numpy as np\n",
    "import gc\n",
    "from torch.utils.tensorboard import SummaryWriter\n",
    "from torchnlp.word_to_vector import GloVe\n",
    "from torch.utils.data import TensorDataset\n",
    "from torch.utils.data import DataLoader"
   ]
  },
  {
   "cell_type": "markdown",
   "id": "d5816388",
   "metadata": {},
   "source": [
    "# 2. Generate eegmap"
   ]
  },
  {
   "cell_type": "markdown",
   "id": "5090b583",
   "metadata": {},
   "source": [
    "## 2.1.1  Produce Datamap"
   ]
  },
  {
   "cell_type": "code",
   "execution_count": 5,
   "id": "0f8e389d",
   "metadata": {},
   "outputs": [],
   "source": [
    "from data_preprocess import generate_eegmap\n",
    "# origin eeg data\n",
    "root_dir = \"../eegdata\"\n",
    "# distribution index matrix\n",
    "matrix_index = np.array([\n",
    "    [0,0,2,2,4,4,6,6,8,8,2,2,4,4,6,6,2,4,6,3,3,5,5,3,3,5,5,3,3,2,2,4,4,6,6,1,1,3,3,5,5,7,7,2,2,4,4,6,6,1,1,3,3,5,5,7,7,0,5],\n",
    "    [4,6,3,7,3,7,3,7,4,6,1,9,1,9,1,9,5,5,5,4,6,4,6,2,8,2,8,0,10,4,6,4,6,4,6,4,6,3,7,3,7,4,6,2,8,2,8,2,8,3,7,1,9,1,9,3,7,5,5]\n",
    "])\n",
    "window_overlap = 0\n",
    "# set GPU usage\n",
    "device = torch.device(\"cuda\" if torch.cuda.is_available() else \"cpu\")\n",
    "#====================================================================\n",
    "# # -----------------generate single dir----------------------------\n",
    "# # experimental dir: conditionA, conditionB, conditionC\n",
    "# exper_dir = \"conditionA\"\n",
    "# # condition_dir: hc, mcs, uws\n",
    "# condi_dir = \"hc\"\n",
    "# dataset = MyData(root_dir, exper_dir, condi_dir) # eg.conditionA/hc\n",
    "# generate_eegmap(dataset, matrix_index, exper_dir, condi_dir, device)\n",
    "\n",
    "# --------------------generate all dirs------------------------------\n",
    "for exper_dir in ['conditionA','conditionB','conditionC']:\n",
    "    for condi_dir in ['hc','mcs','uws']:\n",
    "        dataset = MyData(root_dir, exper_dir, condi_dir) # eg.conditionA\\hc\n",
    "        generate_eegmap(dataset, matrix_index, exper_dir, condi_dir, device)"
   ]
  },
  {
   "cell_type": "markdown",
   "id": "d45767d2",
   "metadata": {},
   "source": [
    "## 2.1.2 Split data into 2400-points eegmap pieces"
   ]
  },
  {
   "cell_type": "code",
   "execution_count": 31,
   "id": "a048b157",
   "metadata": {
    "scrolled": true
   },
   "outputs": [
    {
     "name": "stderr",
     "output_type": "stream",
     "text": [
      "D:\\Anaconda\\envs\\pytorch\\lib\\site-packages\\ipykernel_launcher.py:7: TqdmDeprecationWarning: This function will be removed in tqdm==5.0.0\n",
      "Please use `tqdm.notebook.tqdm` instead of `tqdm.tqdm_notebook`\n",
      "  import sys\n"
     ]
    },
    {
     "data": {
      "application/vnd.jupyter.widget-view+json": {
       "model_id": "32e938b2849449b3a344af1c9a722e02",
       "version_major": 2,
       "version_minor": 0
      },
      "text/plain": [
       "  0%|          | 0/20 [00:00<?, ?it/s]"
      ]
     },
     "metadata": {},
     "output_type": "display_data"
    },
    {
     "name": "stdout",
     "output_type": "stream",
     "text": [
      "../data/eegmap_direct\\conditionC\\hc\\hc1.set.mat.pt\n",
      "torch.Size([62, 2400, 10, 11])\n"
     ]
    },
    {
     "name": "stderr",
     "output_type": "stream",
     "text": [
      "D:\\Anaconda\\envs\\pytorch\\lib\\site-packages\\ipykernel_launcher.py:13: TqdmDeprecationWarning: This function will be removed in tqdm==5.0.0\n",
      "Please use `tqdm.notebook.tqdm` instead of `tqdm.tqdm_notebook`\n",
      "  del sys.path[0]\n"
     ]
    },
    {
     "data": {
      "application/vnd.jupyter.widget-view+json": {
       "model_id": "9a164279aa5145d69a51ef0d6a576a1a",
       "version_major": 2,
       "version_minor": 0
      },
      "text/plain": [
       "  0%|          | 0/62 [00:00<?, ?it/s]"
      ]
     },
     "metadata": {},
     "output_type": "display_data"
    },
    {
     "name": "stdout",
     "output_type": "stream",
     "text": [
      "../data/eegmap_direct\\conditionC\\hc\\hc10.set.mat.pt\n",
      "torch.Size([43, 2400, 10, 11])\n"
     ]
    },
    {
     "data": {
      "application/vnd.jupyter.widget-view+json": {
       "model_id": "444d3bc366244cef84233179643b0594",
       "version_major": 2,
       "version_minor": 0
      },
      "text/plain": [
       "  0%|          | 0/43 [00:00<?, ?it/s]"
      ]
     },
     "metadata": {},
     "output_type": "display_data"
    },
    {
     "name": "stdout",
     "output_type": "stream",
     "text": [
      "../data/eegmap_direct\\conditionC\\hc\\hc11.set.mat.pt\n",
      "torch.Size([63, 2400, 10, 11])\n"
     ]
    },
    {
     "data": {
      "application/vnd.jupyter.widget-view+json": {
       "model_id": "ef415b811c4b4ec8bbbb9d5fb4c94a8c",
       "version_major": 2,
       "version_minor": 0
      },
      "text/plain": [
       "  0%|          | 0/63 [00:00<?, ?it/s]"
      ]
     },
     "metadata": {},
     "output_type": "display_data"
    },
    {
     "name": "stdout",
     "output_type": "stream",
     "text": [
      "../data/eegmap_direct\\conditionC\\hc\\hc12.set.mat.pt\n",
      "torch.Size([62, 2400, 10, 11])\n"
     ]
    },
    {
     "data": {
      "application/vnd.jupyter.widget-view+json": {
       "model_id": "ddbd98de742d44569899a95765c3937c",
       "version_major": 2,
       "version_minor": 0
      },
      "text/plain": [
       "  0%|          | 0/62 [00:00<?, ?it/s]"
      ]
     },
     "metadata": {},
     "output_type": "display_data"
    },
    {
     "name": "stdout",
     "output_type": "stream",
     "text": [
      "../data/eegmap_direct\\conditionC\\hc\\hc13.set.mat.pt\n",
      "torch.Size([59, 2400, 10, 11])\n"
     ]
    },
    {
     "data": {
      "application/vnd.jupyter.widget-view+json": {
       "model_id": "7ba1cafdb33542548f853dd9c195d7fa",
       "version_major": 2,
       "version_minor": 0
      },
      "text/plain": [
       "  0%|          | 0/59 [00:00<?, ?it/s]"
      ]
     },
     "metadata": {},
     "output_type": "display_data"
    },
    {
     "name": "stdout",
     "output_type": "stream",
     "text": [
      "../data/eegmap_direct\\conditionC\\hc\\hc14.set.mat.pt\n",
      "torch.Size([64, 2400, 10, 11])\n"
     ]
    },
    {
     "data": {
      "application/vnd.jupyter.widget-view+json": {
       "model_id": "177a92efbe974ee08aab4e4f2e0b3c72",
       "version_major": 2,
       "version_minor": 0
      },
      "text/plain": [
       "  0%|          | 0/64 [00:00<?, ?it/s]"
      ]
     },
     "metadata": {},
     "output_type": "display_data"
    },
    {
     "name": "stdout",
     "output_type": "stream",
     "text": [
      "../data/eegmap_direct\\conditionC\\hc\\hc15.set.mat.pt\n",
      "torch.Size([62, 2400, 10, 11])\n"
     ]
    },
    {
     "data": {
      "application/vnd.jupyter.widget-view+json": {
       "model_id": "285175ff34504fa0a1d65bd55eb9735d",
       "version_major": 2,
       "version_minor": 0
      },
      "text/plain": [
       "  0%|          | 0/62 [00:00<?, ?it/s]"
      ]
     },
     "metadata": {},
     "output_type": "display_data"
    },
    {
     "name": "stdout",
     "output_type": "stream",
     "text": [
      "../data/eegmap_direct\\conditionC\\hc\\hc16.set.mat.pt\n",
      "torch.Size([58, 2400, 10, 11])\n"
     ]
    },
    {
     "data": {
      "application/vnd.jupyter.widget-view+json": {
       "model_id": "41c2e6538a824694b5e2145a80132f37",
       "version_major": 2,
       "version_minor": 0
      },
      "text/plain": [
       "  0%|          | 0/58 [00:00<?, ?it/s]"
      ]
     },
     "metadata": {},
     "output_type": "display_data"
    },
    {
     "name": "stdout",
     "output_type": "stream",
     "text": [
      "../data/eegmap_direct\\conditionC\\hc\\hc17.set.mat.pt\n",
      "torch.Size([62, 2400, 10, 11])\n"
     ]
    },
    {
     "data": {
      "application/vnd.jupyter.widget-view+json": {
       "model_id": "be4cdcd0bb3448259a2c89d984326deb",
       "version_major": 2,
       "version_minor": 0
      },
      "text/plain": [
       "  0%|          | 0/62 [00:00<?, ?it/s]"
      ]
     },
     "metadata": {},
     "output_type": "display_data"
    },
    {
     "name": "stdout",
     "output_type": "stream",
     "text": [
      "../data/eegmap_direct\\conditionC\\hc\\hc18.set.mat.pt\n",
      "torch.Size([58, 2400, 10, 11])\n"
     ]
    },
    {
     "data": {
      "application/vnd.jupyter.widget-view+json": {
       "model_id": "12fc65f3e9b84a778eb1b68f49bc2bf5",
       "version_major": 2,
       "version_minor": 0
      },
      "text/plain": [
       "  0%|          | 0/58 [00:00<?, ?it/s]"
      ]
     },
     "metadata": {},
     "output_type": "display_data"
    },
    {
     "name": "stdout",
     "output_type": "stream",
     "text": [
      "../data/eegmap_direct\\conditionC\\hc\\hc2.set.mat.pt\n",
      "torch.Size([66, 2400, 10, 11])\n"
     ]
    },
    {
     "data": {
      "application/vnd.jupyter.widget-view+json": {
       "model_id": "e1c92ad59fdd46adae7b669fb1dd9c82",
       "version_major": 2,
       "version_minor": 0
      },
      "text/plain": [
       "  0%|          | 0/66 [00:00<?, ?it/s]"
      ]
     },
     "metadata": {},
     "output_type": "display_data"
    },
    {
     "name": "stdout",
     "output_type": "stream",
     "text": [
      "../data/eegmap_direct\\conditionC\\hc\\hc20.set.mat.pt\n",
      "torch.Size([66, 2400, 10, 11])\n"
     ]
    },
    {
     "data": {
      "application/vnd.jupyter.widget-view+json": {
       "model_id": "a3300de75f1546f1a7a4de310b36ead1",
       "version_major": 2,
       "version_minor": 0
      },
      "text/plain": [
       "  0%|          | 0/66 [00:00<?, ?it/s]"
      ]
     },
     "metadata": {},
     "output_type": "display_data"
    },
    {
     "name": "stdout",
     "output_type": "stream",
     "text": [
      "../data/eegmap_direct\\conditionC\\hc\\hc21.set.mat.pt\n",
      "torch.Size([66, 2400, 10, 11])\n"
     ]
    },
    {
     "data": {
      "application/vnd.jupyter.widget-view+json": {
       "model_id": "ddff26d2244d4532aa2b3804ecc2941f",
       "version_major": 2,
       "version_minor": 0
      },
      "text/plain": [
       "  0%|          | 0/66 [00:00<?, ?it/s]"
      ]
     },
     "metadata": {},
     "output_type": "display_data"
    },
    {
     "name": "stdout",
     "output_type": "stream",
     "text": [
      "../data/eegmap_direct\\conditionC\\hc\\hc22.set.mat.pt\n",
      "torch.Size([66, 2400, 10, 11])\n"
     ]
    },
    {
     "data": {
      "application/vnd.jupyter.widget-view+json": {
       "model_id": "3924982667834fcebaa3bdb8d2ba9728",
       "version_major": 2,
       "version_minor": 0
      },
      "text/plain": [
       "  0%|          | 0/66 [00:00<?, ?it/s]"
      ]
     },
     "metadata": {},
     "output_type": "display_data"
    },
    {
     "name": "stdout",
     "output_type": "stream",
     "text": [
      "../data/eegmap_direct\\conditionC\\hc\\hc3.set.mat.pt\n",
      "torch.Size([58, 2400, 10, 11])\n"
     ]
    },
    {
     "data": {
      "application/vnd.jupyter.widget-view+json": {
       "model_id": "1657ba5ebd4a4cd5a1829dae8e6eb5e0",
       "version_major": 2,
       "version_minor": 0
      },
      "text/plain": [
       "  0%|          | 0/58 [00:00<?, ?it/s]"
      ]
     },
     "metadata": {},
     "output_type": "display_data"
    },
    {
     "name": "stdout",
     "output_type": "stream",
     "text": [
      "../data/eegmap_direct\\conditionC\\hc\\hc4.set.mat.pt\n",
      "torch.Size([63, 2400, 10, 11])\n"
     ]
    },
    {
     "data": {
      "application/vnd.jupyter.widget-view+json": {
       "model_id": "bae1a338f7084a1480476da0322a6d00",
       "version_major": 2,
       "version_minor": 0
      },
      "text/plain": [
       "  0%|          | 0/63 [00:00<?, ?it/s]"
      ]
     },
     "metadata": {},
     "output_type": "display_data"
    },
    {
     "name": "stdout",
     "output_type": "stream",
     "text": [
      "../data/eegmap_direct\\conditionC\\hc\\hc6.set.mat.pt\n",
      "torch.Size([66, 2400, 10, 11])\n"
     ]
    },
    {
     "data": {
      "application/vnd.jupyter.widget-view+json": {
       "model_id": "02e173cd818c490499474a01bafdcbe4",
       "version_major": 2,
       "version_minor": 0
      },
      "text/plain": [
       "  0%|          | 0/66 [00:00<?, ?it/s]"
      ]
     },
     "metadata": {},
     "output_type": "display_data"
    },
    {
     "name": "stdout",
     "output_type": "stream",
     "text": [
      "../data/eegmap_direct\\conditionC\\hc\\hc7.set.mat.pt\n",
      "torch.Size([63, 2400, 10, 11])\n"
     ]
    },
    {
     "data": {
      "application/vnd.jupyter.widget-view+json": {
       "model_id": "2d06602d678746e7bf3f0f196cac3aa7",
       "version_major": 2,
       "version_minor": 0
      },
      "text/plain": [
       "  0%|          | 0/63 [00:00<?, ?it/s]"
      ]
     },
     "metadata": {},
     "output_type": "display_data"
    },
    {
     "name": "stdout",
     "output_type": "stream",
     "text": [
      "../data/eegmap_direct\\conditionC\\hc\\hc8.set.mat.pt\n",
      "torch.Size([61, 2400, 10, 11])\n"
     ]
    },
    {
     "data": {
      "application/vnd.jupyter.widget-view+json": {
       "model_id": "855ea1ec0575457e965f70a34f844625",
       "version_major": 2,
       "version_minor": 0
      },
      "text/plain": [
       "  0%|          | 0/61 [00:00<?, ?it/s]"
      ]
     },
     "metadata": {},
     "output_type": "display_data"
    },
    {
     "name": "stdout",
     "output_type": "stream",
     "text": [
      "../data/eegmap_direct\\conditionC\\hc\\hc9.set.mat.pt\n",
      "torch.Size([63, 2400, 10, 11])\n"
     ]
    },
    {
     "data": {
      "application/vnd.jupyter.widget-view+json": {
       "model_id": "99ff1cb411114d32bf66a81bb1ad31ff",
       "version_major": 2,
       "version_minor": 0
      },
      "text/plain": [
       "  0%|          | 0/63 [00:00<?, ?it/s]"
      ]
     },
     "metadata": {},
     "output_type": "display_data"
    },
    {
     "name": "stdout",
     "output_type": "stream",
     "text": [
      "1231\n"
     ]
    }
   ],
   "source": [
    "root_dir = \"../data/eegmap_direct\"\n",
    "# exper_dir = \"conditionB\"\n",
    "# condi_dir = \"hc\"\n",
    "for exper_dir in ['conditionA','conditionB','conditionC']:\n",
    "    for condi_dir in ['hc','mcs','uws']:\n",
    "        dataset = MyData(root_dir, exper_dir, condi_dir)\n",
    "        data_all = []\n",
    "        for person in tqdm(range(len(dataset))):\n",
    "            filename = os.path.join(dataset.path, dataset.file_path[person])\n",
    "            data_map = torch.load(filename)\n",
    "            print(filename)\n",
    "            print(data_map.size())\n",
    "\n",
    "            for i in tqdm(range(data_map.size(0))): # 每个被试切割成2400大小的块保存到data_all中\n",
    "                data_all.append(data_map[i])\n",
    "\n",
    "        savepath = f\"../data/eegmap_chunks/{exper_dir}/{condi_dir}/{exper_dir}_{condi_dir}.pt\"\n",
    "        torch.save(torch.stack(data_all),savepath)\n",
    "        print(len(data_all))\n",
    "        del data_all\n",
    "        del dataset\n",
    "        del data_map\n",
    "        gc.collect()\n",
    "        torch.cuda.empty_cache()"
   ]
  },
  {
   "cell_type": "markdown",
   "id": "bb985722",
   "metadata": {},
   "source": [
    "# 3. Prepare Datasets"
   ]
  },
  {
   "cell_type": "code",
   "execution_count": 6,
   "id": "bdf8c35f",
   "metadata": {},
   "outputs": [
    {
     "name": "stdout",
     "output_type": "stream",
     "text": [
      "torch.Size([1231, 2400, 10, 11])\n",
      "torch.Size([1353, 2400, 10, 11])\n",
      "torch.Size([1220, 2400, 10, 11])\n"
     ]
    }
   ],
   "source": [
    "exper_dir = \"conditionC\"\n",
    "# exper_dir = \"rest\"\n",
    "hc_path = f\"../data/eegmap_chunks/{exper_dir}/hc/{exper_dir}_hc.pt\"\n",
    "mcs_path = f\"../data/eegmap_chunks/{exper_dir}/mcs/{exper_dir}_mcs.pt\"\n",
    "uws_path = f\"../data/eegmap_chunks/{exper_dir}/uws/{exper_dir}_uws.pt\"\n",
    "hc = torch.load(hc_path)\n",
    "mcs = torch.load(mcs_path)\n",
    "uws = torch.load(uws_path)\n",
    "print(hc.size())\n",
    "print(mcs.size())\n",
    "print(uws.size())"
   ]
  },
  {
   "cell_type": "markdown",
   "id": "7ef56912",
   "metadata": {},
   "source": [
    "## 3.1 Split Map Data - Cross Fold Valid"
   ]
  },
  {
   "cell_type": "code",
   "execution_count": null,
   "id": "0cc10b87",
   "metadata": {},
   "outputs": [],
   "source": [
    "# 定义函数用于保存数据集\n",
    "def save_dataset(data, exper_dir, subset, mode, fold):\n",
    "    torch.save(data, f\"../data/eegmap_split/{exper_dir}/train/{subset}/{exper_dir}_{subset}_{mode}_{fold}.pt\")\n",
    "\n",
    "# test dataset\n",
    "# 生成随机种子\n",
    "torch.manual_seed(32)\n",
    "# 生成随机索引\n",
    "hc_indices = torch.randperm(len(hc))\n",
    "mcs_indices = torch.randperm(len(mcs))\n",
    "uws_indices = torch.randperm(len(uws))\n",
    "test_percentage = 0.1\n",
    "# hc\n",
    "print(len(hc))\n",
    "test_end = int(test_percentage * len(hc))\n",
    "test_hc_indices = hc_indices[:test_end]\n",
    "test_hc = hc[test_hc_indices]\n",
    "torch.save(test_hc, f\"../data/eegmap_split/{exper_dir}/test/hc/{exper_dir}_hc_test.pt\")\n",
    "hc = hc[hc_indices[test_end:]]\n",
    "print(len(hc))\n",
    "# mcs\n",
    "print(len(mcs))\n",
    "test_end = int(test_percentage * len(mcs))\n",
    "test_mcs_indices = mcs_indices[:test_end]\n",
    "test_mcs = mcs[test_mcs_indices]\n",
    "torch.save(test_mcs, f\"../data/eegmap_split/{exper_dir}/test/mcs/{exper_dir}_mcs_test.pt\")\n",
    "mcs = mcs[mcs_indices[test_end:]]\n",
    "print(len(mcs))\n",
    "#uws\n",
    "print(len(uws))\n",
    "test_end = int(test_percentage * len(uws))\n",
    "test_uws_indices = uws_indices[:test_end]\n",
    "test_uws = uws[test_uws_indices]\n",
    "torch.save(test_uws, f\"../data/eegmap_split/{exper_dir}/test/uws/{exper_dir}_uws_test.pt\")\n",
    "uws = uws[uws_indices[test_end:]]\n",
    "print(len(uws))\n",
    "# 清理内存\n",
    "del hc_indices, mcs_indices, uws_indices, test_hc_indices, test_mcs_indices, test_uws_indices\n",
    "del test_hc, test_mcs, test_uws\n",
    "gc.collect()\n",
    "torch.cuda.empty_cache()\n",
    "\n",
    "# train dataset\n",
    "# 生成随机索引\n",
    "hc_indices = torch.randperm(len(hc))\n",
    "mcs_indices = torch.randperm(len(mcs))\n",
    "uws_indices = torch.randperm(len(uws))\n",
    "fold_num = 5\n",
    "# 划分数据集并保存\n",
    "for fold in tqdm(range(fold_num)):\n",
    "    # 划分 hc 数据集\n",
    "    len_hc = len(hc)\n",
    "    val_size = len_hc // fold_num  # 每一折的验证集大小\n",
    "    val_start = fold * val_size  # 验证集起始索引\n",
    "    val_end = min((fold + 1) * val_size, len_hc)  # 验证集结束索引\n",
    "    train_hc_indices = torch.cat([hc_indices[:val_start], hc_indices[val_end:]])\n",
    "    val_hc_indices = hc_indices[val_start:val_end]\n",
    "    train_hc = hc[train_hc_indices]\n",
    "    val_hc = hc[val_hc_indices]\n",
    "    save_dataset(train_hc, exper_dir, 'hc', 'train', fold)\n",
    "    save_dataset(val_hc, exper_dir, 'hc', 'val', fold)\n",
    "    print(train_hc.size())\n",
    "    print(val_hc.size())\n",
    "    \n",
    "    # 划分 mcs 数据集\n",
    "    len_mcs = len(mcs)\n",
    "    val_size = len_mcs // fold_num\n",
    "    val_start = fold * val_size\n",
    "    val_end = min((fold + 1) * val_size, len_mcs)\n",
    "    train_mcs_indices = torch.cat([mcs_indices[:val_start], mcs_indices[val_end:]])\n",
    "    val_mcs_indices = mcs_indices[val_start:val_end]\n",
    "    train_mcs = mcs[train_mcs_indices]\n",
    "    val_mcs = mcs[val_mcs_indices]\n",
    "    save_dataset(train_mcs, exper_dir, 'mcs', 'train', fold)\n",
    "    save_dataset(val_mcs, exper_dir, 'mcs', 'val', fold)\n",
    "    print(train_mcs.size())\n",
    "    print(val_mcs.size())\n",
    "    \n",
    "    # 划分 uws 数据集\n",
    "    len_uws = len(uws)\n",
    "    val_size = len_uws // fold_num\n",
    "    val_start = fold * val_size\n",
    "    val_end = min((fold + 1) * val_size, len_uws)\n",
    "    train_uws_indices = torch.cat([uws_indices[:val_start], uws_indices[val_end:]])\n",
    "    val_uws_indices = uws_indices[val_start:val_end]\n",
    "    train_uws = uws[train_uws_indices]\n",
    "    val_uws = uws[val_uws_indices]\n",
    "    save_dataset(train_uws, exper_dir, 'uws', 'train', fold)\n",
    "    save_dataset(val_uws, exper_dir, 'uws', 'val', fold)\n",
    "    print(train_uws.size())\n",
    "    print(val_uws.size())\n",
    "    \n",
    "    # 清理内存\n",
    "    del train_hc_indices, train_mcs_indices, train_uws_indices,\n",
    "    del val_hc_indices, val_mcs_indices, val_uws_indices\n",
    "    del train_hc, train_mcs, train_uws, val_hc, val_mcs, val_uws\n",
    "    gc.collect()\n",
    "    torch.cuda.empty_cache()\n",
    "    \n",
    "# 清理内存\n",
    "del hc_indices, mcs_indices, uws_indices\n",
    "del hc, mcs, uws\n",
    "gc.collect()\n",
    "torch.cuda.empty_cache()"
   ]
  }
 ],
 "metadata": {
  "kernelspec": {
   "display_name": "Python [conda env:pytorch] *",
   "language": "python",
   "name": "conda-env-pytorch-py"
  },
  "language_info": {
   "codemirror_mode": {
    "name": "ipython",
    "version": 3
   },
   "file_extension": ".py",
   "mimetype": "text/x-python",
   "name": "python",
   "nbconvert_exporter": "python",
   "pygments_lexer": "ipython3",
   "version": "3.6.13"
  }
 },
 "nbformat": 4,
 "nbformat_minor": 5
}
