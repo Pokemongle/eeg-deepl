{
 "cells": [
  {
   "cell_type": "markdown",
   "id": "1f3f61f3",
   "metadata": {},
   "source": [
    "# 1. Necessary Headfiles"
   ]
  },
  {
   "cell_type": "code",
   "execution_count": 8,
   "id": "3c52b7b3",
   "metadata": {},
   "outputs": [],
   "source": [
    "import torch\n",
    "import torchvision\n",
    "# from torch.utils.tensorboard import SummaryWriter\n",
    "import time\n",
    "from torch import nn\n",
    "from torch.utils.data import DataLoader\n",
    "from load_data import MyData  # self-made\n",
    "from torchvision import transforms\n",
    "from tqdm import tqdm_notebook as tqdm # View procedure\n",
    "import os\n",
    "import scipy.io\n",
    "from random import random\n",
    "import numpy as np\n",
    "import gc\n",
    "from PIL import Image"
   ]
  },
  {
   "cell_type": "markdown",
   "id": "d5816388",
   "metadata": {},
   "source": [
    "# 2. Prepare Datasets"
   ]
  },
  {
   "cell_type": "markdown",
   "id": "5090b583",
   "metadata": {},
   "source": [
    "## 2.1.1 (Original Data) Produce Datamap\n",
    "Navigate to the data folder "
   ]
  },
  {
   "cell_type": "code",
   "execution_count": 5,
   "id": "0f8e389d",
   "metadata": {},
   "outputs": [],
   "source": [
    "root_dir = \"../eegdata\"\n",
    "# experimental dir: rest, conditionA, conditionB, conditionC\n",
    "exper_dir = \"rest\"\n",
    "# condition_dir: hc, mcs, uws\n",
    "condi_dir = \"hc\"\n",
    "# distribution index matrix\n",
    "matrix_index = np.array([\n",
    "    [0,0,2,2,4,4,6,6,8,8,2,2,4,4,6,6,2,4,6,3,3,5,5,3,3,5,5,3,3,2,2,4,4,6,6,1,1,3,3,5,5,7,7,2,2,4,4,6,6,1,1,3,3,5,5,7,7,0,5],\n",
    "    [4,6,3,7,3,7,3,7,4,6,1,9,1,9,1,9,5,5,5,4,6,4,6,2,8,2,8,0,10,4,6,4,6,4,6,4,6,3,7,3,7,4,6,2,8,2,8,2,8,3,7,1,9,1,9,3,7,5,5]\n",
    "])"
   ]
  },
  {
   "cell_type": "markdown",
   "id": "5dcfada4",
   "metadata": {},
   "source": [
    "### Conditional Data"
   ]
  },
  {
   "cell_type": "code",
   "execution_count": null,
   "id": "5cb41887",
   "metadata": {},
   "outputs": [],
   "source": [
    "window_overlap = 0\n",
    "# 设置使用GPU\n",
    "device = torch.device(\"cuda\" if torch.cuda.is_available() else \"cpu\")\n",
    "dataset = MyData(root_dir, exper_dir, condi_dir) # eg.conditionA\\hc\n",
    "\n",
    "for person in tqdm(range(len(dataset))): #12种情况中的1种，其中的所有被试\n",
    "    # filepath是最子文件夹中每个.mat文件的名字\n",
    "    # path是包含当前情况的.mat文件的子文件夹\n",
    "    filename = os.path.join(dataset.path, dataset.file_path[person]) # eg. conditionA\\hc\\hc1.set.mat\n",
    "    data = scipy.io.loadmat(filename) # 读取该被试的数据为字典\n",
    "    data = data['datas'] # 键值对读取59*x的数据矩阵\n",
    "    # 将数据移动到GPU上\n",
    "    data = torch.from_numpy(data).to(device)\n",
    "    \n",
    "    # 在GPU上处理数据\n",
    "    # 创建被试全0map\n",
    "    data_map_person = []\n",
    "    print(f\"----现在处理：{dataset.file_path[person]}，共{data.shape[2]}段----\")\n",
    "    # 遍历该被试的所有段\n",
    "    for para in tqdm(range(data.shape[2])): \n",
    "        # 创建段全0map\n",
    "        data_map_para = [] \n",
    "        for point in range(data.shape[1]): # 遍历该段所有数据点\n",
    "            # 创建单个数据点全0map\n",
    "            data_map_point = torch.zeros((10, 11), device=device) \n",
    "            # 遍历59电极数据并赋值给全0map\n",
    "            for channel in range(data.shape[0]): \n",
    "                data_map_point[matrix_index[0][channel]][matrix_index[1][channel]] = data[channel][point][para]\n",
    "            # 保存单个数据点map到段map列表\n",
    "            data_map_para.append(data_map_point)\n",
    "        # 保存 段map 到 被试map\n",
    "        data_map_person.append(torch.stack(data_map_para))\n",
    "        print(len(data_map_person))\n",
    "        # 清理内存\n",
    "        del data_map_para\n",
    "        gc.collect()\n",
    "        torch.cuda.empty_cache()\n",
    "    # 保存 被试map 到文件中\n",
    "    save_path = f\"../eegmap_direct/conditionC/uws/{dataset.file_path[person]}.pt\"\n",
    "    torch.save(torch.stack(data_map_person), save_path)"
   ]
  },
  {
   "cell_type": "markdown",
   "id": "328e5c3d",
   "metadata": {},
   "source": [
    "### rest data"
   ]
  },
  {
   "cell_type": "code",
   "execution_count": 11,
   "id": "9ac64302",
   "metadata": {},
   "outputs": [
    {
     "data": {
      "application/vnd.jupyter.widget-view+json": {
       "model_id": "f09861f55aa34646a829e1130f0bca9e",
       "version_major": 2,
       "version_minor": 0
      },
      "text/plain": [
       "HBox(children=(IntProgress(value=0, max=18), HTML(value='')))"
      ]
     },
     "metadata": {},
     "output_type": "display_data"
    },
    {
     "name": "stdout",
     "output_type": "stream",
     "text": [
      "----现在处理：hc1.set.mat，共116241个数据点----\n"
     ]
    },
    {
     "data": {
      "application/vnd.jupyter.widget-view+json": {
       "model_id": "908257e7c5a0479ba1ba30d9654c87ff",
       "version_major": 2,
       "version_minor": 0
      },
      "text/plain": [
       "HBox(children=(IntProgress(value=0, max=116241), HTML(value='')))"
      ]
     },
     "metadata": {},
     "output_type": "display_data"
    },
    {
     "name": "stdout",
     "output_type": "stream",
     "text": [
      "----现在处理：hc10.set.mat，共151738个数据点----\n"
     ]
    },
    {
     "data": {
      "application/vnd.jupyter.widget-view+json": {
       "model_id": "7024d245a1494fdab6516cf4baa4fb80",
       "version_major": 2,
       "version_minor": 0
      },
      "text/plain": [
       "HBox(children=(IntProgress(value=0, max=151738), HTML(value='')))"
      ]
     },
     "metadata": {},
     "output_type": "display_data"
    },
    {
     "name": "stdout",
     "output_type": "stream",
     "text": [
      "----现在处理：hc11.set.mat，共97794个数据点----\n"
     ]
    },
    {
     "data": {
      "application/vnd.jupyter.widget-view+json": {
       "model_id": "001ad60ca9384a639f9bf214878dad4b",
       "version_major": 2,
       "version_minor": 0
      },
      "text/plain": [
       "HBox(children=(IntProgress(value=0, max=97794), HTML(value='')))"
      ]
     },
     "metadata": {},
     "output_type": "display_data"
    },
    {
     "name": "stdout",
     "output_type": "stream",
     "text": [
      "----现在处理：hc12.set.mat，共110221个数据点----\n"
     ]
    },
    {
     "data": {
      "application/vnd.jupyter.widget-view+json": {
       "model_id": "bedd6a50e07443d3b6792558637c1e03",
       "version_major": 2,
       "version_minor": 0
      },
      "text/plain": [
       "HBox(children=(IntProgress(value=0, max=110221), HTML(value='')))"
      ]
     },
     "metadata": {},
     "output_type": "display_data"
    },
    {
     "name": "stdout",
     "output_type": "stream",
     "text": [
      "----现在处理：hc13.set.mat，共96004个数据点----\n"
     ]
    },
    {
     "data": {
      "application/vnd.jupyter.widget-view+json": {
       "model_id": "54ba45344699401191ba256a3cb43cd4",
       "version_major": 2,
       "version_minor": 0
      },
      "text/plain": [
       "HBox(children=(IntProgress(value=0, max=96004), HTML(value='')))"
      ]
     },
     "metadata": {},
     "output_type": "display_data"
    },
    {
     "name": "stdout",
     "output_type": "stream",
     "text": [
      "----现在处理：hc14.set.mat，共87936个数据点----\n"
     ]
    },
    {
     "data": {
      "application/vnd.jupyter.widget-view+json": {
       "model_id": "c81f7608a89649609af3c40cbc7e0708",
       "version_major": 2,
       "version_minor": 0
      },
      "text/plain": [
       "HBox(children=(IntProgress(value=0, max=87936), HTML(value='')))"
      ]
     },
     "metadata": {},
     "output_type": "display_data"
    },
    {
     "name": "stdout",
     "output_type": "stream",
     "text": [
      "----现在处理：hc15.set.mat，共119553个数据点----\n"
     ]
    },
    {
     "data": {
      "application/vnd.jupyter.widget-view+json": {
       "model_id": "5b4f592ddf314737b7e1cba96f08f58c",
       "version_major": 2,
       "version_minor": 0
      },
      "text/plain": [
       "HBox(children=(IntProgress(value=0, max=119553), HTML(value='')))"
      ]
     },
     "metadata": {},
     "output_type": "display_data"
    },
    {
     "name": "stdout",
     "output_type": "stream",
     "text": [
      "----现在处理：hc16.set.mat，共110659个数据点----\n"
     ]
    },
    {
     "data": {
      "application/vnd.jupyter.widget-view+json": {
       "model_id": "e486903e90424ad187939aca051855d5",
       "version_major": 2,
       "version_minor": 0
      },
      "text/plain": [
       "HBox(children=(IntProgress(value=0, max=110659), HTML(value='')))"
      ]
     },
     "metadata": {},
     "output_type": "display_data"
    },
    {
     "name": "stdout",
     "output_type": "stream",
     "text": [
      "----现在处理：hc17.set.mat，共120225个数据点----\n"
     ]
    },
    {
     "data": {
      "application/vnd.jupyter.widget-view+json": {
       "model_id": "516761cdcb7e43aaad202cf9fe212500",
       "version_major": 2,
       "version_minor": 0
      },
      "text/plain": [
       "HBox(children=(IntProgress(value=0, max=120225), HTML(value='')))"
      ]
     },
     "metadata": {},
     "output_type": "display_data"
    },
    {
     "name": "stdout",
     "output_type": "stream",
     "text": [
      "----现在处理：hc18.set.mat，共110748个数据点----\n"
     ]
    },
    {
     "data": {
      "application/vnd.jupyter.widget-view+json": {
       "model_id": "d1c26b96749c48d4b64d5bbaf4de9f1e",
       "version_major": 2,
       "version_minor": 0
      },
      "text/plain": [
       "HBox(children=(IntProgress(value=0, max=110748), HTML(value='')))"
      ]
     },
     "metadata": {},
     "output_type": "display_data"
    },
    {
     "name": "stdout",
     "output_type": "stream",
     "text": [
      "----现在处理：hc21.set.mat，共119047个数据点----\n"
     ]
    },
    {
     "data": {
      "application/vnd.jupyter.widget-view+json": {
       "model_id": "90b696d0019c46b78cb8c88ec5800da9",
       "version_major": 2,
       "version_minor": 0
      },
      "text/plain": [
       "HBox(children=(IntProgress(value=0, max=119047), HTML(value='')))"
      ]
     },
     "metadata": {},
     "output_type": "display_data"
    },
    {
     "name": "stdout",
     "output_type": "stream",
     "text": [
      "----现在处理：hc22.set.mat，共117450个数据点----\n"
     ]
    },
    {
     "data": {
      "application/vnd.jupyter.widget-view+json": {
       "model_id": "2daf3edcf70f43d48728a8f9de9b23f0",
       "version_major": 2,
       "version_minor": 0
      },
      "text/plain": [
       "HBox(children=(IntProgress(value=0, max=117450), HTML(value='')))"
      ]
     },
     "metadata": {},
     "output_type": "display_data"
    },
    {
     "name": "stdout",
     "output_type": "stream",
     "text": [
      "----现在处理：hc3.set.mat，共116849个数据点----\n"
     ]
    },
    {
     "data": {
      "application/vnd.jupyter.widget-view+json": {
       "model_id": "4a347cae9d16453abc7f3eb39b188b89",
       "version_major": 2,
       "version_minor": 0
      },
      "text/plain": [
       "HBox(children=(IntProgress(value=0, max=116849), HTML(value='')))"
      ]
     },
     "metadata": {},
     "output_type": "display_data"
    },
    {
     "name": "stdout",
     "output_type": "stream",
     "text": [
      "----现在处理：hc5.set.mat，共118235个数据点----\n"
     ]
    },
    {
     "data": {
      "application/vnd.jupyter.widget-view+json": {
       "model_id": "ecde838803ec4b31b4b0124a7f436a25",
       "version_major": 2,
       "version_minor": 0
      },
      "text/plain": [
       "HBox(children=(IntProgress(value=0, max=118235), HTML(value='')))"
      ]
     },
     "metadata": {},
     "output_type": "display_data"
    },
    {
     "name": "stdout",
     "output_type": "stream",
     "text": [
      "----现在处理：hc6.set.mat，共113920个数据点----\n"
     ]
    },
    {
     "data": {
      "application/vnd.jupyter.widget-view+json": {
       "model_id": "7c4374c840d94fc1945215a32d15a939",
       "version_major": 2,
       "version_minor": 0
      },
      "text/plain": [
       "HBox(children=(IntProgress(value=0, max=113920), HTML(value='')))"
      ]
     },
     "metadata": {},
     "output_type": "display_data"
    },
    {
     "name": "stdout",
     "output_type": "stream",
     "text": [
      "----现在处理：hc7.set.mat，共113935个数据点----\n"
     ]
    },
    {
     "data": {
      "application/vnd.jupyter.widget-view+json": {
       "model_id": "62c96595b41e41228803ccae04ecaf27",
       "version_major": 2,
       "version_minor": 0
      },
      "text/plain": [
       "HBox(children=(IntProgress(value=0, max=113935), HTML(value='')))"
      ]
     },
     "metadata": {},
     "output_type": "display_data"
    },
    {
     "name": "stdout",
     "output_type": "stream",
     "text": [
      "----现在处理：hc8.set.mat，共125408个数据点----\n"
     ]
    },
    {
     "data": {
      "application/vnd.jupyter.widget-view+json": {
       "model_id": "bf1bf90a24cc4a1180c7bd1cfdbf169f",
       "version_major": 2,
       "version_minor": 0
      },
      "text/plain": [
       "HBox(children=(IntProgress(value=0, max=125408), HTML(value='')))"
      ]
     },
     "metadata": {},
     "output_type": "display_data"
    },
    {
     "name": "stdout",
     "output_type": "stream",
     "text": [
      "----现在处理：hc9.set.mat，共118521个数据点----\n"
     ]
    },
    {
     "data": {
      "application/vnd.jupyter.widget-view+json": {
       "model_id": "c69bc72372f540c5a90cad3ae082cee2",
       "version_major": 2,
       "version_minor": 0
      },
      "text/plain": [
       "HBox(children=(IntProgress(value=0, max=118521), HTML(value='')))"
      ]
     },
     "metadata": {},
     "output_type": "display_data"
    }
   ],
   "source": [
    "root_dir = \"../eegdata\"\n",
    "# experimental dir: rest, conditionA, conditionB, conditionC\n",
    "exper_dir = \"rest\"\n",
    "# condition_dir: hc, mcs, uws\n",
    "condi_dir = \"hc\"\n",
    "# distribution index matrix\n",
    "matrix_index = np.array([\n",
    "    [0,0,2,2,4,4,6,6,8,8,2,2,4,4,6,6,2,4,6,3,3,5,5,3,3,5,5,3,3,2,2,4,4,6,6,1,1,3,3,5,5,7,7,2,2,4,4,6,6,1,1,3,3,5,5,7,7,0,5],\n",
    "    [4,6,3,7,3,7,3,7,4,6,1,9,1,9,1,9,5,5,5,4,6,4,6,2,8,2,8,0,10,4,6,4,6,4,6,4,6,3,7,3,7,4,6,2,8,2,8,2,8,3,7,1,9,1,9,3,7,5,5]\n",
    "])\n",
    "# 设置使用GPU\n",
    "device = torch.device(\"cuda\" if torch.cuda.is_available() else \"cpu\")\n",
    "dataset = MyData(root_dir, exper_dir, condi_dir) # eg.conditionA\\hc\n",
    "\n",
    "for person in tqdm(range(len(dataset))): #12种情况中的1种，其中的所有被试\n",
    "    # filepath是最子文件夹中每个.mat文件的名字\n",
    "    # path是包含当前情况的.mat文件的子文件夹\n",
    "    filename = os.path.join(dataset.path, dataset.file_path[person]) # eg. conditionA\\hc\\hc1.set.mat\n",
    "    data = scipy.io.loadmat(filename) # 读取该被试的数据为字典\n",
    "    data = data['datas'] # 键值对读取59*x的数据矩阵\n",
    "    # 将数据移动到GPU上\n",
    "    data = torch.from_numpy(data).to(device)\n",
    "    \n",
    "    # 在GPU上处理数据\n",
    "    # 创建被试全0map\n",
    "    data_map_person = []\n",
    "    print(f\"----现在处理：{dataset.file_path[person]}，共{data.shape[1]}个数据点----\")\n",
    "    # 遍历该被试的所有段\n",
    "    for point in tqdm(range(data.shape[1])): # 遍历该段所有数据点\n",
    "        # 创建单个数据点全0map\n",
    "        data_map_point = torch.zeros((10, 11), device=device) \n",
    "        # 遍历59电极数据并赋值给全0map\n",
    "        for channel in range(data.shape[0]): \n",
    "            data_map_point[matrix_index[0][channel]][matrix_index[1][channel]] = data[channel][point]\n",
    "        # 保存单个数据点map到被试map列表\n",
    "        data_map_person.append(data_map_point)\n",
    "    # 清理内存\n",
    "    gc.collect()\n",
    "    torch.cuda.empty_cache()\n",
    "    # 保存 被试map 到文件中\n",
    "    save_path = f\"../eegmap_direct/rest/hc/{dataset.file_path[person]}.pt\"\n",
    "    torch.save(torch.stack(data_map_person), save_path)"
   ]
  },
  {
   "cell_type": "markdown",
   "id": "d45767d2",
   "metadata": {},
   "source": [
    "## 2.1.2 Split data into 2400-points pieces"
   ]
  },
  {
   "cell_type": "markdown",
   "id": "1e3b7282",
   "metadata": {},
   "source": [
    "### Conditional Data"
   ]
  },
  {
   "cell_type": "code",
   "execution_count": 31,
   "id": "a048b157",
   "metadata": {},
   "outputs": [
    {
     "name": "stderr",
     "output_type": "stream",
     "text": [
      "D:\\Anaconda\\envs\\pytorch\\lib\\site-packages\\ipykernel_launcher.py:7: TqdmDeprecationWarning: This function will be removed in tqdm==5.0.0\n",
      "Please use `tqdm.notebook.tqdm` instead of `tqdm.tqdm_notebook`\n",
      "  import sys\n"
     ]
    },
    {
     "data": {
      "application/vnd.jupyter.widget-view+json": {
       "model_id": "32e938b2849449b3a344af1c9a722e02",
       "version_major": 2,
       "version_minor": 0
      },
      "text/plain": [
       "  0%|          | 0/20 [00:00<?, ?it/s]"
      ]
     },
     "metadata": {},
     "output_type": "display_data"
    },
    {
     "name": "stdout",
     "output_type": "stream",
     "text": [
      "../data/eegmap_direct\\conditionC\\hc\\hc1.set.mat.pt\n",
      "torch.Size([62, 2400, 10, 11])\n"
     ]
    },
    {
     "name": "stderr",
     "output_type": "stream",
     "text": [
      "D:\\Anaconda\\envs\\pytorch\\lib\\site-packages\\ipykernel_launcher.py:13: TqdmDeprecationWarning: This function will be removed in tqdm==5.0.0\n",
      "Please use `tqdm.notebook.tqdm` instead of `tqdm.tqdm_notebook`\n",
      "  del sys.path[0]\n"
     ]
    },
    {
     "data": {
      "application/vnd.jupyter.widget-view+json": {
       "model_id": "9a164279aa5145d69a51ef0d6a576a1a",
       "version_major": 2,
       "version_minor": 0
      },
      "text/plain": [
       "  0%|          | 0/62 [00:00<?, ?it/s]"
      ]
     },
     "metadata": {},
     "output_type": "display_data"
    },
    {
     "name": "stdout",
     "output_type": "stream",
     "text": [
      "../data/eegmap_direct\\conditionC\\hc\\hc10.set.mat.pt\n",
      "torch.Size([43, 2400, 10, 11])\n"
     ]
    },
    {
     "data": {
      "application/vnd.jupyter.widget-view+json": {
       "model_id": "444d3bc366244cef84233179643b0594",
       "version_major": 2,
       "version_minor": 0
      },
      "text/plain": [
       "  0%|          | 0/43 [00:00<?, ?it/s]"
      ]
     },
     "metadata": {},
     "output_type": "display_data"
    },
    {
     "name": "stdout",
     "output_type": "stream",
     "text": [
      "../data/eegmap_direct\\conditionC\\hc\\hc11.set.mat.pt\n",
      "torch.Size([63, 2400, 10, 11])\n"
     ]
    },
    {
     "data": {
      "application/vnd.jupyter.widget-view+json": {
       "model_id": "ef415b811c4b4ec8bbbb9d5fb4c94a8c",
       "version_major": 2,
       "version_minor": 0
      },
      "text/plain": [
       "  0%|          | 0/63 [00:00<?, ?it/s]"
      ]
     },
     "metadata": {},
     "output_type": "display_data"
    },
    {
     "name": "stdout",
     "output_type": "stream",
     "text": [
      "../data/eegmap_direct\\conditionC\\hc\\hc12.set.mat.pt\n",
      "torch.Size([62, 2400, 10, 11])\n"
     ]
    },
    {
     "data": {
      "application/vnd.jupyter.widget-view+json": {
       "model_id": "ddbd98de742d44569899a95765c3937c",
       "version_major": 2,
       "version_minor": 0
      },
      "text/plain": [
       "  0%|          | 0/62 [00:00<?, ?it/s]"
      ]
     },
     "metadata": {},
     "output_type": "display_data"
    },
    {
     "name": "stdout",
     "output_type": "stream",
     "text": [
      "../data/eegmap_direct\\conditionC\\hc\\hc13.set.mat.pt\n",
      "torch.Size([59, 2400, 10, 11])\n"
     ]
    },
    {
     "data": {
      "application/vnd.jupyter.widget-view+json": {
       "model_id": "7ba1cafdb33542548f853dd9c195d7fa",
       "version_major": 2,
       "version_minor": 0
      },
      "text/plain": [
       "  0%|          | 0/59 [00:00<?, ?it/s]"
      ]
     },
     "metadata": {},
     "output_type": "display_data"
    },
    {
     "name": "stdout",
     "output_type": "stream",
     "text": [
      "../data/eegmap_direct\\conditionC\\hc\\hc14.set.mat.pt\n",
      "torch.Size([64, 2400, 10, 11])\n"
     ]
    },
    {
     "data": {
      "application/vnd.jupyter.widget-view+json": {
       "model_id": "177a92efbe974ee08aab4e4f2e0b3c72",
       "version_major": 2,
       "version_minor": 0
      },
      "text/plain": [
       "  0%|          | 0/64 [00:00<?, ?it/s]"
      ]
     },
     "metadata": {},
     "output_type": "display_data"
    },
    {
     "name": "stdout",
     "output_type": "stream",
     "text": [
      "../data/eegmap_direct\\conditionC\\hc\\hc15.set.mat.pt\n",
      "torch.Size([62, 2400, 10, 11])\n"
     ]
    },
    {
     "data": {
      "application/vnd.jupyter.widget-view+json": {
       "model_id": "285175ff34504fa0a1d65bd55eb9735d",
       "version_major": 2,
       "version_minor": 0
      },
      "text/plain": [
       "  0%|          | 0/62 [00:00<?, ?it/s]"
      ]
     },
     "metadata": {},
     "output_type": "display_data"
    },
    {
     "name": "stdout",
     "output_type": "stream",
     "text": [
      "../data/eegmap_direct\\conditionC\\hc\\hc16.set.mat.pt\n",
      "torch.Size([58, 2400, 10, 11])\n"
     ]
    },
    {
     "data": {
      "application/vnd.jupyter.widget-view+json": {
       "model_id": "41c2e6538a824694b5e2145a80132f37",
       "version_major": 2,
       "version_minor": 0
      },
      "text/plain": [
       "  0%|          | 0/58 [00:00<?, ?it/s]"
      ]
     },
     "metadata": {},
     "output_type": "display_data"
    },
    {
     "name": "stdout",
     "output_type": "stream",
     "text": [
      "../data/eegmap_direct\\conditionC\\hc\\hc17.set.mat.pt\n",
      "torch.Size([62, 2400, 10, 11])\n"
     ]
    },
    {
     "data": {
      "application/vnd.jupyter.widget-view+json": {
       "model_id": "be4cdcd0bb3448259a2c89d984326deb",
       "version_major": 2,
       "version_minor": 0
      },
      "text/plain": [
       "  0%|          | 0/62 [00:00<?, ?it/s]"
      ]
     },
     "metadata": {},
     "output_type": "display_data"
    },
    {
     "name": "stdout",
     "output_type": "stream",
     "text": [
      "../data/eegmap_direct\\conditionC\\hc\\hc18.set.mat.pt\n",
      "torch.Size([58, 2400, 10, 11])\n"
     ]
    },
    {
     "data": {
      "application/vnd.jupyter.widget-view+json": {
       "model_id": "12fc65f3e9b84a778eb1b68f49bc2bf5",
       "version_major": 2,
       "version_minor": 0
      },
      "text/plain": [
       "  0%|          | 0/58 [00:00<?, ?it/s]"
      ]
     },
     "metadata": {},
     "output_type": "display_data"
    },
    {
     "name": "stdout",
     "output_type": "stream",
     "text": [
      "../data/eegmap_direct\\conditionC\\hc\\hc2.set.mat.pt\n",
      "torch.Size([66, 2400, 10, 11])\n"
     ]
    },
    {
     "data": {
      "application/vnd.jupyter.widget-view+json": {
       "model_id": "e1c92ad59fdd46adae7b669fb1dd9c82",
       "version_major": 2,
       "version_minor": 0
      },
      "text/plain": [
       "  0%|          | 0/66 [00:00<?, ?it/s]"
      ]
     },
     "metadata": {},
     "output_type": "display_data"
    },
    {
     "name": "stdout",
     "output_type": "stream",
     "text": [
      "../data/eegmap_direct\\conditionC\\hc\\hc20.set.mat.pt\n",
      "torch.Size([66, 2400, 10, 11])\n"
     ]
    },
    {
     "data": {
      "application/vnd.jupyter.widget-view+json": {
       "model_id": "a3300de75f1546f1a7a4de310b36ead1",
       "version_major": 2,
       "version_minor": 0
      },
      "text/plain": [
       "  0%|          | 0/66 [00:00<?, ?it/s]"
      ]
     },
     "metadata": {},
     "output_type": "display_data"
    },
    {
     "name": "stdout",
     "output_type": "stream",
     "text": [
      "../data/eegmap_direct\\conditionC\\hc\\hc21.set.mat.pt\n",
      "torch.Size([66, 2400, 10, 11])\n"
     ]
    },
    {
     "data": {
      "application/vnd.jupyter.widget-view+json": {
       "model_id": "ddff26d2244d4532aa2b3804ecc2941f",
       "version_major": 2,
       "version_minor": 0
      },
      "text/plain": [
       "  0%|          | 0/66 [00:00<?, ?it/s]"
      ]
     },
     "metadata": {},
     "output_type": "display_data"
    },
    {
     "name": "stdout",
     "output_type": "stream",
     "text": [
      "../data/eegmap_direct\\conditionC\\hc\\hc22.set.mat.pt\n",
      "torch.Size([66, 2400, 10, 11])\n"
     ]
    },
    {
     "data": {
      "application/vnd.jupyter.widget-view+json": {
       "model_id": "3924982667834fcebaa3bdb8d2ba9728",
       "version_major": 2,
       "version_minor": 0
      },
      "text/plain": [
       "  0%|          | 0/66 [00:00<?, ?it/s]"
      ]
     },
     "metadata": {},
     "output_type": "display_data"
    },
    {
     "name": "stdout",
     "output_type": "stream",
     "text": [
      "../data/eegmap_direct\\conditionC\\hc\\hc3.set.mat.pt\n",
      "torch.Size([58, 2400, 10, 11])\n"
     ]
    },
    {
     "data": {
      "application/vnd.jupyter.widget-view+json": {
       "model_id": "1657ba5ebd4a4cd5a1829dae8e6eb5e0",
       "version_major": 2,
       "version_minor": 0
      },
      "text/plain": [
       "  0%|          | 0/58 [00:00<?, ?it/s]"
      ]
     },
     "metadata": {},
     "output_type": "display_data"
    },
    {
     "name": "stdout",
     "output_type": "stream",
     "text": [
      "../data/eegmap_direct\\conditionC\\hc\\hc4.set.mat.pt\n",
      "torch.Size([63, 2400, 10, 11])\n"
     ]
    },
    {
     "data": {
      "application/vnd.jupyter.widget-view+json": {
       "model_id": "bae1a338f7084a1480476da0322a6d00",
       "version_major": 2,
       "version_minor": 0
      },
      "text/plain": [
       "  0%|          | 0/63 [00:00<?, ?it/s]"
      ]
     },
     "metadata": {},
     "output_type": "display_data"
    },
    {
     "name": "stdout",
     "output_type": "stream",
     "text": [
      "../data/eegmap_direct\\conditionC\\hc\\hc6.set.mat.pt\n",
      "torch.Size([66, 2400, 10, 11])\n"
     ]
    },
    {
     "data": {
      "application/vnd.jupyter.widget-view+json": {
       "model_id": "02e173cd818c490499474a01bafdcbe4",
       "version_major": 2,
       "version_minor": 0
      },
      "text/plain": [
       "  0%|          | 0/66 [00:00<?, ?it/s]"
      ]
     },
     "metadata": {},
     "output_type": "display_data"
    },
    {
     "name": "stdout",
     "output_type": "stream",
     "text": [
      "../data/eegmap_direct\\conditionC\\hc\\hc7.set.mat.pt\n",
      "torch.Size([63, 2400, 10, 11])\n"
     ]
    },
    {
     "data": {
      "application/vnd.jupyter.widget-view+json": {
       "model_id": "2d06602d678746e7bf3f0f196cac3aa7",
       "version_major": 2,
       "version_minor": 0
      },
      "text/plain": [
       "  0%|          | 0/63 [00:00<?, ?it/s]"
      ]
     },
     "metadata": {},
     "output_type": "display_data"
    },
    {
     "name": "stdout",
     "output_type": "stream",
     "text": [
      "../data/eegmap_direct\\conditionC\\hc\\hc8.set.mat.pt\n",
      "torch.Size([61, 2400, 10, 11])\n"
     ]
    },
    {
     "data": {
      "application/vnd.jupyter.widget-view+json": {
       "model_id": "855ea1ec0575457e965f70a34f844625",
       "version_major": 2,
       "version_minor": 0
      },
      "text/plain": [
       "  0%|          | 0/61 [00:00<?, ?it/s]"
      ]
     },
     "metadata": {},
     "output_type": "display_data"
    },
    {
     "name": "stdout",
     "output_type": "stream",
     "text": [
      "../data/eegmap_direct\\conditionC\\hc\\hc9.set.mat.pt\n",
      "torch.Size([63, 2400, 10, 11])\n"
     ]
    },
    {
     "data": {
      "application/vnd.jupyter.widget-view+json": {
       "model_id": "99ff1cb411114d32bf66a81bb1ad31ff",
       "version_major": 2,
       "version_minor": 0
      },
      "text/plain": [
       "  0%|          | 0/63 [00:00<?, ?it/s]"
      ]
     },
     "metadata": {},
     "output_type": "display_data"
    },
    {
     "name": "stdout",
     "output_type": "stream",
     "text": [
      "1231\n"
     ]
    }
   ],
   "source": [
    "root_dir = \"../data/eegmap_direct\"\n",
    "exper_dir = \"conditionB\"\n",
    "condi_dir = \"hc\"\n",
    "\n",
    "dataset = MyData(root_dir, exper_dir, condi_dir)\n",
    "data_all = []\n",
    "for person in tqdm(range(len(dataset))):\n",
    "    filename = os.path.join(dataset.path, dataset.file_path[person])\n",
    "    data_map = torch.load(filename)\n",
    "    print(filename)\n",
    "    print(data_map.size())\n",
    "    \n",
    "    for i in tqdm(range(data_map.size(0))): # 每个被试切割成2400大小的块保存到data_all中\n",
    "        data_all.append(data_map[i])\n",
    "                        \n",
    "savepath = f\"../data/eegmap_chunks/{exper_dir}/{condi_dir}/{exper_dir}_{condi_dir}.pt\"\n",
    "torch.save(torch.stack(data_all),savepath)\n",
    "print(len(data_all))\n",
    "del data_all\n",
    "del dataset\n",
    "del data_map\n",
    "gc.collect()\n",
    "torch.cuda.empty_cache()"
   ]
  },
  {
   "cell_type": "markdown",
   "id": "84171543",
   "metadata": {},
   "source": [
    "### Rest Data"
   ]
  },
  {
   "cell_type": "code",
   "execution_count": 13,
   "id": "ae6b191c",
   "metadata": {},
   "outputs": [
    {
     "name": "stderr",
     "output_type": "stream",
     "text": [
      "D:\\Anaconda\\envs\\pytorch\\lib\\site-packages\\ipykernel_launcher.py:7: TqdmDeprecationWarning: This function will be removed in tqdm==5.0.0\n",
      "Please use `tqdm.notebook.tqdm` instead of `tqdm.tqdm_notebook`\n",
      "  import sys\n"
     ]
    },
    {
     "data": {
      "application/vnd.jupyter.widget-view+json": {
       "model_id": "4d8023f17e354cd786290985f23d8c7d",
       "version_major": 2,
       "version_minor": 0
      },
      "text/plain": [
       "  0%|          | 0/18 [00:00<?, ?it/s]"
      ]
     },
     "metadata": {},
     "output_type": "display_data"
    },
    {
     "name": "stdout",
     "output_type": "stream",
     "text": [
      "../data/eegmap_direct\\rest\\uws\\uws1.set.mat.pt\n",
      "torch.Size([122560, 10, 11])\n",
      "torch.Size([51, 2400, 10, 11])\n"
     ]
    },
    {
     "name": "stderr",
     "output_type": "stream",
     "text": [
      "D:\\Anaconda\\envs\\pytorch\\lib\\site-packages\\ipykernel_launcher.py:22: TqdmDeprecationWarning: This function will be removed in tqdm==5.0.0\n",
      "Please use `tqdm.notebook.tqdm` instead of `tqdm.tqdm_notebook`\n"
     ]
    },
    {
     "data": {
      "application/vnd.jupyter.widget-view+json": {
       "model_id": "286452c5af494f399266a9e147e79fd7",
       "version_major": 2,
       "version_minor": 0
      },
      "text/plain": [
       "  0%|          | 0/51 [00:00<?, ?it/s]"
      ]
     },
     "metadata": {},
     "output_type": "display_data"
    },
    {
     "name": "stdout",
     "output_type": "stream",
     "text": [
      "../data/eegmap_direct\\rest\\uws\\uws10.set.mat.pt\n",
      "torch.Size([154640, 10, 11])\n",
      "torch.Size([64, 2400, 10, 11])\n"
     ]
    },
    {
     "data": {
      "application/vnd.jupyter.widget-view+json": {
       "model_id": "2b8fbf38f3eb4fcdbd8dea47f0c91a2b",
       "version_major": 2,
       "version_minor": 0
      },
      "text/plain": [
       "  0%|          | 0/64 [00:00<?, ?it/s]"
      ]
     },
     "metadata": {},
     "output_type": "display_data"
    },
    {
     "name": "stdout",
     "output_type": "stream",
     "text": [
      "../data/eegmap_direct\\rest\\uws\\uws11.set.mat.pt\n",
      "torch.Size([119314, 10, 11])\n",
      "torch.Size([49, 2400, 10, 11])\n"
     ]
    },
    {
     "data": {
      "application/vnd.jupyter.widget-view+json": {
       "model_id": "6162e874afed4f86a48e24c8a3482882",
       "version_major": 2,
       "version_minor": 0
      },
      "text/plain": [
       "  0%|          | 0/49 [00:00<?, ?it/s]"
      ]
     },
     "metadata": {},
     "output_type": "display_data"
    },
    {
     "name": "stdout",
     "output_type": "stream",
     "text": [
      "../data/eegmap_direct\\rest\\uws\\uws13.set.mat.pt\n",
      "torch.Size([108969, 10, 11])\n",
      "torch.Size([45, 2400, 10, 11])\n"
     ]
    },
    {
     "data": {
      "application/vnd.jupyter.widget-view+json": {
       "model_id": "a4b9f9b0a57e47ffac60184104eed3b2",
       "version_major": 2,
       "version_minor": 0
      },
      "text/plain": [
       "  0%|          | 0/45 [00:00<?, ?it/s]"
      ]
     },
     "metadata": {},
     "output_type": "display_data"
    },
    {
     "name": "stdout",
     "output_type": "stream",
     "text": [
      "../data/eegmap_direct\\rest\\uws\\uws16.set.mat.pt\n",
      "torch.Size([77466, 10, 11])\n",
      "torch.Size([32, 2400, 10, 11])\n"
     ]
    },
    {
     "data": {
      "application/vnd.jupyter.widget-view+json": {
       "model_id": "3fb7a7f7ea5d4ed7bb2fb7002b17c184",
       "version_major": 2,
       "version_minor": 0
      },
      "text/plain": [
       "  0%|          | 0/32 [00:00<?, ?it/s]"
      ]
     },
     "metadata": {},
     "output_type": "display_data"
    },
    {
     "name": "stdout",
     "output_type": "stream",
     "text": [
      "../data/eegmap_direct\\rest\\uws\\uws17.set.mat.pt\n",
      "torch.Size([115804, 10, 11])\n",
      "torch.Size([48, 2400, 10, 11])\n"
     ]
    },
    {
     "data": {
      "application/vnd.jupyter.widget-view+json": {
       "model_id": "8b500886a9484ce68051bf9a53ae7f8e",
       "version_major": 2,
       "version_minor": 0
      },
      "text/plain": [
       "  0%|          | 0/48 [00:00<?, ?it/s]"
      ]
     },
     "metadata": {},
     "output_type": "display_data"
    },
    {
     "name": "stdout",
     "output_type": "stream",
     "text": [
      "../data/eegmap_direct\\rest\\uws\\uws2.set.mat.pt\n",
      "torch.Size([115704, 10, 11])\n",
      "torch.Size([48, 2400, 10, 11])\n"
     ]
    },
    {
     "data": {
      "application/vnd.jupyter.widget-view+json": {
       "model_id": "7f29ca504ce54059951b4d1bc0b4b0b5",
       "version_major": 2,
       "version_minor": 0
      },
      "text/plain": [
       "  0%|          | 0/48 [00:00<?, ?it/s]"
      ]
     },
     "metadata": {},
     "output_type": "display_data"
    },
    {
     "name": "stdout",
     "output_type": "stream",
     "text": [
      "../data/eegmap_direct\\rest\\uws\\uws21.set.mat.pt\n",
      "torch.Size([87728, 10, 11])\n",
      "torch.Size([36, 2400, 10, 11])\n"
     ]
    },
    {
     "data": {
      "application/vnd.jupyter.widget-view+json": {
       "model_id": "8e31c17ae18d47cabc6894cf6a25584a",
       "version_major": 2,
       "version_minor": 0
      },
      "text/plain": [
       "  0%|          | 0/36 [00:00<?, ?it/s]"
      ]
     },
     "metadata": {},
     "output_type": "display_data"
    },
    {
     "name": "stdout",
     "output_type": "stream",
     "text": [
      "../data/eegmap_direct\\rest\\uws\\uws22.set.mat.pt\n",
      "torch.Size([111461, 10, 11])\n",
      "torch.Size([46, 2400, 10, 11])\n"
     ]
    },
    {
     "data": {
      "application/vnd.jupyter.widget-view+json": {
       "model_id": "bac251d9e771411ba24045c63690c062",
       "version_major": 2,
       "version_minor": 0
      },
      "text/plain": [
       "  0%|          | 0/46 [00:00<?, ?it/s]"
      ]
     },
     "metadata": {},
     "output_type": "display_data"
    },
    {
     "name": "stdout",
     "output_type": "stream",
     "text": [
      "../data/eegmap_direct\\rest\\uws\\uws23.set.mat.pt\n",
      "torch.Size([73382, 10, 11])\n",
      "torch.Size([30, 2400, 10, 11])\n"
     ]
    },
    {
     "data": {
      "application/vnd.jupyter.widget-view+json": {
       "model_id": "f2e8220592f54c88aa8a24624982b641",
       "version_major": 2,
       "version_minor": 0
      },
      "text/plain": [
       "  0%|          | 0/30 [00:00<?, ?it/s]"
      ]
     },
     "metadata": {},
     "output_type": "display_data"
    },
    {
     "name": "stdout",
     "output_type": "stream",
     "text": [
      "../data/eegmap_direct\\rest\\uws\\uws24.set.mat.pt\n",
      "torch.Size([145939, 10, 11])\n",
      "torch.Size([60, 2400, 10, 11])\n"
     ]
    },
    {
     "data": {
      "application/vnd.jupyter.widget-view+json": {
       "model_id": "cd2349ceed2c4052925c72f1626ef575",
       "version_major": 2,
       "version_minor": 0
      },
      "text/plain": [
       "  0%|          | 0/60 [00:00<?, ?it/s]"
      ]
     },
     "metadata": {},
     "output_type": "display_data"
    },
    {
     "name": "stdout",
     "output_type": "stream",
     "text": [
      "../data/eegmap_direct\\rest\\uws\\uws3.set.mat.pt\n",
      "torch.Size([126945, 10, 11])\n",
      "torch.Size([52, 2400, 10, 11])\n"
     ]
    },
    {
     "data": {
      "application/vnd.jupyter.widget-view+json": {
       "model_id": "2bacbfffdf3b450bab94342c605b02fc",
       "version_major": 2,
       "version_minor": 0
      },
      "text/plain": [
       "  0%|          | 0/52 [00:00<?, ?it/s]"
      ]
     },
     "metadata": {},
     "output_type": "display_data"
    },
    {
     "name": "stdout",
     "output_type": "stream",
     "text": [
      "../data/eegmap_direct\\rest\\uws\\uws4.set.mat.pt\n",
      "torch.Size([157083, 10, 11])\n",
      "torch.Size([65, 2400, 10, 11])\n"
     ]
    },
    {
     "data": {
      "application/vnd.jupyter.widget-view+json": {
       "model_id": "62cb95d0253340818beb1717345a6b0e",
       "version_major": 2,
       "version_minor": 0
      },
      "text/plain": [
       "  0%|          | 0/65 [00:00<?, ?it/s]"
      ]
     },
     "metadata": {},
     "output_type": "display_data"
    },
    {
     "name": "stdout",
     "output_type": "stream",
     "text": [
      "../data/eegmap_direct\\rest\\uws\\uws5.set.mat.pt\n",
      "torch.Size([126173, 10, 11])\n",
      "torch.Size([52, 2400, 10, 11])\n"
     ]
    },
    {
     "data": {
      "application/vnd.jupyter.widget-view+json": {
       "model_id": "64249f8abe76496f9626b7fdd54a9fdf",
       "version_major": 2,
       "version_minor": 0
      },
      "text/plain": [
       "  0%|          | 0/52 [00:00<?, ?it/s]"
      ]
     },
     "metadata": {},
     "output_type": "display_data"
    },
    {
     "name": "stdout",
     "output_type": "stream",
     "text": [
      "../data/eegmap_direct\\rest\\uws\\uws6.set.mat.pt\n",
      "torch.Size([115733, 10, 11])\n",
      "torch.Size([48, 2400, 10, 11])\n"
     ]
    },
    {
     "data": {
      "application/vnd.jupyter.widget-view+json": {
       "model_id": "dd2c566431044bfc898f3e5bce6a730b",
       "version_major": 2,
       "version_minor": 0
      },
      "text/plain": [
       "  0%|          | 0/48 [00:00<?, ?it/s]"
      ]
     },
     "metadata": {},
     "output_type": "display_data"
    },
    {
     "name": "stdout",
     "output_type": "stream",
     "text": [
      "../data/eegmap_direct\\rest\\uws\\uws7.set.mat.pt\n",
      "torch.Size([117892, 10, 11])\n",
      "torch.Size([49, 2400, 10, 11])\n"
     ]
    },
    {
     "data": {
      "application/vnd.jupyter.widget-view+json": {
       "model_id": "92f4233e40af454d9c7e4a341c9bbcce",
       "version_major": 2,
       "version_minor": 0
      },
      "text/plain": [
       "  0%|          | 0/49 [00:00<?, ?it/s]"
      ]
     },
     "metadata": {},
     "output_type": "display_data"
    },
    {
     "name": "stdout",
     "output_type": "stream",
     "text": [
      "../data/eegmap_direct\\rest\\uws\\uws8.set.mat.pt\n",
      "torch.Size([118679, 10, 11])\n",
      "torch.Size([49, 2400, 10, 11])\n"
     ]
    },
    {
     "data": {
      "application/vnd.jupyter.widget-view+json": {
       "model_id": "9715c3762f6a4ba991ffd371ffd2fa22",
       "version_major": 2,
       "version_minor": 0
      },
      "text/plain": [
       "  0%|          | 0/49 [00:00<?, ?it/s]"
      ]
     },
     "metadata": {},
     "output_type": "display_data"
    },
    {
     "name": "stdout",
     "output_type": "stream",
     "text": [
      "../data/eegmap_direct\\rest\\uws\\uws9.set.mat.pt\n",
      "torch.Size([115715, 10, 11])\n",
      "torch.Size([48, 2400, 10, 11])\n"
     ]
    },
    {
     "data": {
      "application/vnd.jupyter.widget-view+json": {
       "model_id": "02f02e365fea4a8a98607f4802fc133f",
       "version_major": 2,
       "version_minor": 0
      },
      "text/plain": [
       "  0%|          | 0/48 [00:00<?, ?it/s]"
      ]
     },
     "metadata": {},
     "output_type": "display_data"
    },
    {
     "name": "stdout",
     "output_type": "stream",
     "text": [
      "872\n"
     ]
    }
   ],
   "source": [
    "root_dir = \"../data/eegmap_direct\"\n",
    "exper_dir = \"rest\"\n",
    "condi_dir = \"uws\"\n",
    "\n",
    "dataset = MyData(root_dir, exper_dir, condi_dir)\n",
    "data_all = []\n",
    "for person in tqdm(range(len(dataset))):\n",
    "    filename = os.path.join(dataset.path, dataset.file_path[person])\n",
    "    data_map = torch.load(filename)\n",
    "    print(filename)\n",
    "    print(data_map.size())\n",
    "    \n",
    "    # 计算可以切割的最大块数\n",
    "    num_chunks = data_map.size(0) // 2400\n",
    "    # 裁剪数据，使其可以被 2400 整除\n",
    "    cropped_data_map = data_map[:num_chunks * 2400]\n",
    "    # 切割成块\n",
    "    data_map_splitted = [chunk for chunk in torch.chunk(cropped_data_map, chunks=num_chunks, dim=0)]\n",
    "    data_map_splitted_tensor = torch.stack(data_map_splitted, dim=0)\n",
    "    print(data_map_splitted_tensor.size())\n",
    "    \n",
    "    for i in tqdm(range(data_map_splitted_tensor.size(0))): # 每个被试切割成2400大小的块保存到data_all中\n",
    "        data_map_chunk = data_map_splitted_tensor[i]\n",
    "        data_all.append(data_map_chunk)\n",
    "savepath = f\"../data/eegmap_chunks/{exper_dir}/{condi_dir}/rest_{condi_dir}.pt\"\n",
    "torch.save(torch.stack(data_all),savepath)\n",
    "print(len(data_all))\n",
    "del dataset\n",
    "del data_all\n",
    "del data_map\n",
    "del cropped_data_map\n",
    "del data_map_splitted\n",
    "del data_map_splitted_tensor\n",
    "del data_map_chunk\n",
    "gc.collect()\n",
    "torch.cuda.empty_cache()"
   ]
  },
  {
   "cell_type": "markdown",
   "id": "1c7c8c7d",
   "metadata": {},
   "source": [
    "## 2.2.1 Slide Window(Abandoned)"
   ]
  },
  {
   "cell_type": "code",
   "execution_count": 7,
   "id": "3ebf1312",
   "metadata": {},
   "outputs": [
    {
     "name": "stdout",
     "output_type": "stream",
     "text": [
      "Loaded file: hc1.set.mat.pt\n"
     ]
    },
    {
     "name": "stderr",
     "output_type": "stream",
     "text": [
      "D:\\Anaconda\\envs\\pytorch\\lib\\site-packages\\ipykernel_launcher.py:23: TqdmDeprecationWarning: This function will be removed in tqdm==5.0.0\n",
      "Please use `tqdm.notebook.tqdm` instead of `tqdm.tqdm_notebook`\n"
     ]
    },
    {
     "data": {
      "application/vnd.jupyter.widget-view+json": {
       "model_id": "934e912ef67d4acfa11aa5e6dd5c6ed7",
       "version_major": 2,
       "version_minor": 0
      },
      "text/plain": [
       "  0%|          | 0/570 [00:00<?, ?it/s]"
      ]
     },
     "metadata": {},
     "output_type": "display_data"
    },
    {
     "name": "stdout",
     "output_type": "stream",
     "text": [
      "torch.Size([570, 2400, 10, 11])\n",
      "Loaded file: hc10.set.mat.pt\n"
     ]
    },
    {
     "data": {
      "application/vnd.jupyter.widget-view+json": {
       "model_id": "682cf24e9a044e3daf3a7627f19b7607",
       "version_major": 2,
       "version_minor": 0
      },
      "text/plain": [
       "  0%|          | 0/747 [00:00<?, ?it/s]"
      ]
     },
     "metadata": {},
     "output_type": "display_data"
    },
    {
     "name": "stdout",
     "output_type": "stream",
     "text": [
      "torch.Size([747, 2400, 10, 11])\n",
      "Loaded file: hc11.set.mat.pt\n"
     ]
    },
    {
     "data": {
      "application/vnd.jupyter.widget-view+json": {
       "model_id": "3bf2a9d804f34d0996168082b41cd8a7",
       "version_major": 2,
       "version_minor": 0
      },
      "text/plain": [
       "  0%|          | 0/477 [00:00<?, ?it/s]"
      ]
     },
     "metadata": {},
     "output_type": "display_data"
    },
    {
     "name": "stdout",
     "output_type": "stream",
     "text": [
      "torch.Size([477, 2400, 10, 11])\n",
      "Loaded file: hc12.set.mat.pt\n"
     ]
    },
    {
     "data": {
      "application/vnd.jupyter.widget-view+json": {
       "model_id": "5de4a5ece5bf43d385c61f633c2ec3d6",
       "version_major": 2,
       "version_minor": 0
      },
      "text/plain": [
       "  0%|          | 0/540 [00:00<?, ?it/s]"
      ]
     },
     "metadata": {},
     "output_type": "display_data"
    },
    {
     "name": "stdout",
     "output_type": "stream",
     "text": [
      "torch.Size([540, 2400, 10, 11])\n",
      "Loaded file: hc13.set.mat.pt\n"
     ]
    },
    {
     "data": {
      "application/vnd.jupyter.widget-view+json": {
       "model_id": "e3367be71c1949debe5fc271275f1b8b",
       "version_major": 2,
       "version_minor": 0
      },
      "text/plain": [
       "  0%|          | 0/469 [00:00<?, ?it/s]"
      ]
     },
     "metadata": {},
     "output_type": "display_data"
    },
    {
     "name": "stdout",
     "output_type": "stream",
     "text": [
      "torch.Size([469, 2400, 10, 11])\n",
      "Loaded file: hc14.set.mat.pt\n"
     ]
    },
    {
     "data": {
      "application/vnd.jupyter.widget-view+json": {
       "model_id": "3cf62260a1b64737a98a53b7b9e760da",
       "version_major": 2,
       "version_minor": 0
      },
      "text/plain": [
       "  0%|          | 0/428 [00:00<?, ?it/s]"
      ]
     },
     "metadata": {},
     "output_type": "display_data"
    },
    {
     "name": "stdout",
     "output_type": "stream",
     "text": [
      "torch.Size([428, 2400, 10, 11])\n",
      "Loaded file: hc15.set.mat.pt\n"
     ]
    },
    {
     "data": {
      "application/vnd.jupyter.widget-view+json": {
       "model_id": "b3ce9eed6ee949769d67cbcf4758ee66",
       "version_major": 2,
       "version_minor": 0
      },
      "text/plain": [
       "  0%|          | 0/586 [00:00<?, ?it/s]"
      ]
     },
     "metadata": {},
     "output_type": "display_data"
    },
    {
     "name": "stdout",
     "output_type": "stream",
     "text": [
      "torch.Size([586, 2400, 10, 11])\n",
      "Loaded file: hc16.set.mat.pt\n"
     ]
    },
    {
     "data": {
      "application/vnd.jupyter.widget-view+json": {
       "model_id": "fcb204ef1356400c81057637c7d8d74e",
       "version_major": 2,
       "version_minor": 0
      },
      "text/plain": [
       "  0%|          | 0/542 [00:00<?, ?it/s]"
      ]
     },
     "metadata": {},
     "output_type": "display_data"
    },
    {
     "name": "stdout",
     "output_type": "stream",
     "text": [
      "torch.Size([542, 2400, 10, 11])\n",
      "Loaded file: hc17.set.mat.pt\n"
     ]
    },
    {
     "data": {
      "application/vnd.jupyter.widget-view+json": {
       "model_id": "ad1ea4c729a24544bd99d655869e746a",
       "version_major": 2,
       "version_minor": 0
      },
      "text/plain": [
       "  0%|          | 0/590 [00:00<?, ?it/s]"
      ]
     },
     "metadata": {},
     "output_type": "display_data"
    },
    {
     "name": "stdout",
     "output_type": "stream",
     "text": [
      "torch.Size([590, 2400, 10, 11])\n",
      "Loaded file: hc18.set.mat.pt\n"
     ]
    },
    {
     "data": {
      "application/vnd.jupyter.widget-view+json": {
       "model_id": "8680a0b5f79a418ab9fbc5b576309c44",
       "version_major": 2,
       "version_minor": 0
      },
      "text/plain": [
       "  0%|          | 0/542 [00:00<?, ?it/s]"
      ]
     },
     "metadata": {},
     "output_type": "display_data"
    },
    {
     "name": "stdout",
     "output_type": "stream",
     "text": [
      "torch.Size([542, 2400, 10, 11])\n",
      "Loaded file: hc21.set.mat.pt\n"
     ]
    },
    {
     "data": {
      "application/vnd.jupyter.widget-view+json": {
       "model_id": "180b4a53a9004f76a2408f2296d14ce7",
       "version_major": 2,
       "version_minor": 0
      },
      "text/plain": [
       "  0%|          | 0/584 [00:00<?, ?it/s]"
      ]
     },
     "metadata": {},
     "output_type": "display_data"
    },
    {
     "name": "stdout",
     "output_type": "stream",
     "text": [
      "torch.Size([584, 2400, 10, 11])\n",
      "Loaded file: hc22.set.mat.pt\n"
     ]
    },
    {
     "data": {
      "application/vnd.jupyter.widget-view+json": {
       "model_id": "89d8861ba12540cebb3595d356a757e1",
       "version_major": 2,
       "version_minor": 0
      },
      "text/plain": [
       "  0%|          | 0/576 [00:00<?, ?it/s]"
      ]
     },
     "metadata": {},
     "output_type": "display_data"
    },
    {
     "name": "stdout",
     "output_type": "stream",
     "text": [
      "torch.Size([576, 2400, 10, 11])\n",
      "Loaded file: hc3.set.mat.pt\n"
     ]
    },
    {
     "data": {
      "application/vnd.jupyter.widget-view+json": {
       "model_id": "cc6eef9fd42d45cf8c95bc901f543648",
       "version_major": 2,
       "version_minor": 0
      },
      "text/plain": [
       "  0%|          | 0/573 [00:00<?, ?it/s]"
      ]
     },
     "metadata": {},
     "output_type": "display_data"
    },
    {
     "name": "stdout",
     "output_type": "stream",
     "text": [
      "torch.Size([573, 2400, 10, 11])\n",
      "Loaded file: hc5.set.mat.pt\n"
     ]
    },
    {
     "data": {
      "application/vnd.jupyter.widget-view+json": {
       "model_id": "0b1233c9413e4f92b76902403592b30e",
       "version_major": 2,
       "version_minor": 0
      },
      "text/plain": [
       "  0%|          | 0/580 [00:00<?, ?it/s]"
      ]
     },
     "metadata": {},
     "output_type": "display_data"
    },
    {
     "name": "stdout",
     "output_type": "stream",
     "text": [
      "torch.Size([580, 2400, 10, 11])\n",
      "Loaded file: hc6.set.mat.pt\n"
     ]
    },
    {
     "data": {
      "application/vnd.jupyter.widget-view+json": {
       "model_id": "7d66f94d6b3645c7a5ba35b7d2eb8957",
       "version_major": 2,
       "version_minor": 0
      },
      "text/plain": [
       "  0%|          | 0/558 [00:00<?, ?it/s]"
      ]
     },
     "metadata": {},
     "output_type": "display_data"
    },
    {
     "name": "stdout",
     "output_type": "stream",
     "text": [
      "torch.Size([558, 2400, 10, 11])\n",
      "Loaded file: hc7.set.mat.pt\n"
     ]
    },
    {
     "data": {
      "application/vnd.jupyter.widget-view+json": {
       "model_id": "52a1859d908e4022ac093834a8b3db7b",
       "version_major": 2,
       "version_minor": 0
      },
      "text/plain": [
       "  0%|          | 0/558 [00:00<?, ?it/s]"
      ]
     },
     "metadata": {},
     "output_type": "display_data"
    },
    {
     "name": "stdout",
     "output_type": "stream",
     "text": [
      "torch.Size([558, 2400, 10, 11])\n",
      "Loaded file: hc8.set.mat.pt\n"
     ]
    },
    {
     "data": {
      "application/vnd.jupyter.widget-view+json": {
       "model_id": "52e6ebe012084e09a7bbb614dcac8aa5",
       "version_major": 2,
       "version_minor": 0
      },
      "text/plain": [
       "  0%|          | 0/616 [00:00<?, ?it/s]"
      ]
     },
     "metadata": {},
     "output_type": "display_data"
    },
    {
     "name": "stdout",
     "output_type": "stream",
     "text": [
      "torch.Size([616, 2400, 10, 11])\n",
      "Loaded file: hc9.set.mat.pt\n"
     ]
    },
    {
     "data": {
      "application/vnd.jupyter.widget-view+json": {
       "model_id": "aab2f1ce497a4fc5b37782a4e269cb10",
       "version_major": 2,
       "version_minor": 0
      },
      "text/plain": [
       "  0%|          | 0/581 [00:00<?, ?it/s]"
      ]
     },
     "metadata": {},
     "output_type": "display_data"
    },
    {
     "name": "stdout",
     "output_type": "stream",
     "text": [
      "torch.Size([581, 2400, 10, 11])\n"
     ]
    }
   ],
   "source": [
    "# 定义文件夹路径\n",
    "root_dir = \"../data/eegmap_direct\"\n",
    "exper_dir = \"rest\"\n",
    "condi_dir = \"hc\"\n",
    "folder_path = os.path.join(root_dir, exper_dir, condi_dir)\n",
    "\n",
    "# 定义滑动窗口参数\n",
    "window_size = 2400\n",
    "step_size = 200\n",
    "\n",
    "# 遍历文件夹中的所有文件\n",
    "for filename in os.listdir(folder_path):\n",
    "    if filename.endswith('.pt'):\n",
    "        # 拼接文件路径\n",
    "        file_path = os.path.join(folder_path, filename)\n",
    "        # 加载.pt文件\n",
    "        eegmap = torch.load(file_path)\n",
    "        # 显示当前处理文件\n",
    "        print(f'Loaded file: {filename}')\n",
    "        # 切割为滑动窗口\n",
    "        num_windows = (eegmap.size(0) - window_size) // step_size + 1\n",
    "        window_group = []\n",
    "        for i in tqdm(range(num_windows)):\n",
    "            start = i * step_size\n",
    "            end = start + window_size\n",
    "            window = eegmap[start:end]\n",
    "            # 在这里对切割得到的窗口数据进行处理\n",
    "#             print(window.size())\n",
    "            name_parts = filename.split('.')\n",
    "            condi_name = name_parts[0]\n",
    "#             print(hc_name)\n",
    "            # 将 window 存储到列表或其他数据结构中，或者进行进一步的操作\n",
    "            window_group.append(window)\n",
    "            del window\n",
    "            gc.collect()\n",
    "            torch.cuda.empty_cache()\n",
    "        print(torch.stack(window_group).size())\n",
    "        torch.save(torch.stack(window_group),f\"../data/eegmap_overlap_200/{exper_dir}/{condi_dir}/{condi_name}_over200.pt\")\n",
    "        del eegmap\n",
    "        del window_group\n",
    "        gc.collect()\n",
    "        torch.cuda.empty_cache()"
   ]
  }
 ],
 "metadata": {
  "kernelspec": {
   "display_name": "Python [conda env:pytorch] *",
   "language": "python",
   "name": "conda-env-pytorch-py"
  },
  "language_info": {
   "codemirror_mode": {
    "name": "ipython",
    "version": 3
   },
   "file_extension": ".py",
   "mimetype": "text/x-python",
   "name": "python",
   "nbconvert_exporter": "python",
   "pygments_lexer": "ipython3",
   "version": "3.6.13"
  }
 },
 "nbformat": 4,
 "nbformat_minor": 5
}
