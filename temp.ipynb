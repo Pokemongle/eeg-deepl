{
 "cells": [
  {
   "cell_type": "markdown",
   "id": "633e8273",
   "metadata": {},
   "source": [
    "# 验证保存的数据"
   ]
  },
  {
   "cell_type": "code",
   "execution_count": 1,
   "id": "c3203f58",
   "metadata": {},
   "outputs": [],
   "source": [
    "import torch\n",
    "import torchvision\n",
    "# from torch.utils.tensorboard import SummaryWriter\n",
    "import time\n",
    "from torch import nn\n",
    "from torch.utils.data import DataLoader\n",
    "from load_data import MyData  # self-made\n",
    "from torchvision import transforms\n",
    "from tqdm import tqdm_notebook as tqdm # View procedure\n",
    "import os\n",
    "import scipy.io \n",
    "from random import random\n",
    "import numpy as np\n",
    "import gc"
   ]
  },
  {
   "cell_type": "code",
   "execution_count": 2,
   "id": "42d065c0",
   "metadata": {},
   "outputs": [],
   "source": [
    "data = torch.load('../eegmap_direct/conditionA/hc/hc1.set.mat.pt')"
   ]
  },
  {
   "cell_type": "code",
   "execution_count": 3,
   "id": "d810caa7",
   "metadata": {},
   "outputs": [
    {
     "name": "stdout",
     "output_type": "stream",
     "text": [
      "torch.Size([61, 2400, 10, 11])\n"
     ]
    }
   ],
   "source": [
    "print(data.size())"
   ]
  }
 ],
 "metadata": {
  "kernelspec": {
   "display_name": "Python [conda env:pytorch] *",
   "language": "python",
   "name": "conda-env-pytorch-py"
  },
  "language_info": {
   "codemirror_mode": {
    "name": "ipython",
    "version": 3
   },
   "file_extension": ".py",
   "mimetype": "text/x-python",
   "name": "python",
   "nbconvert_exporter": "python",
   "pygments_lexer": "ipython3",
   "version": "3.6.13"
  }
 },
 "nbformat": 4,
 "nbformat_minor": 5
}
