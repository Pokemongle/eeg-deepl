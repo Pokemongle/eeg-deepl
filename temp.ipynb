{
 "cells": [
  {
   "cell_type": "markdown",
   "id": "633e8273",
   "metadata": {},
   "source": [
    "# 验证保存的数据"
   ]
  },
  {
   "cell_type": "code",
   "execution_count": 3,
   "id": "c3203f58",
   "metadata": {},
   "outputs": [],
   "source": [
    "import torch\n",
    "import torchvision\n",
    "# from torch.utils.tensorboard import SummaryWriter\n",
    "import time\n",
    "from torch import nn\n",
    "from torch.utils.data import DataLoader\n",
    "from load_data import MyData  # self-made\n",
    "from torchvision import transforms\n",
    "from tqdm import tqdm_notebook as tqdm # View procedure\n",
    "import os\n",
    "import scipy.io \n",
    "from random import random\n",
    "import numpy as np\n",
    "import gc"
   ]
  },
  {
   "cell_type": "code",
   "execution_count": 10,
   "id": "42d065c0",
   "metadata": {},
   "outputs": [
    {
     "data": {
      "application/vnd.jupyter.widget-view+json": {
       "model_id": "d30d56f4d11242a5b0938bf033dde5f3",
       "version_major": 2,
       "version_minor": 0
      },
      "text/plain": [
       "HBox(children=(IntProgress(value=0, max=18), HTML(value='')))"
      ]
     },
     "metadata": {},
     "output_type": "display_data"
    },
    {
     "name": "stdout",
     "output_type": "stream",
     "text": [
      "../eegmap_direct\\rest\\hc\\hc1.set.mat.pt\n",
      "torch.Size([116241, 10, 11])\n",
      "../eegmap_direct\\rest\\hc\\hc10.set.mat.pt\n",
      "torch.Size([151738, 10, 11])\n",
      "../eegmap_direct\\rest\\hc\\hc11.set.mat.pt\n",
      "torch.Size([97794, 10, 11])\n",
      "../eegmap_direct\\rest\\hc\\hc12.set.mat.pt\n",
      "torch.Size([110221, 10, 11])\n",
      "../eegmap_direct\\rest\\hc\\hc13.set.mat.pt\n",
      "torch.Size([96004, 10, 11])\n",
      "../eegmap_direct\\rest\\hc\\hc14.set.mat.pt\n",
      "torch.Size([87936, 10, 11])\n",
      "../eegmap_direct\\rest\\hc\\hc15.set.mat.pt\n",
      "torch.Size([119553, 10, 11])\n",
      "../eegmap_direct\\rest\\hc\\hc16.set.mat.pt\n",
      "torch.Size([110659, 10, 11])\n",
      "../eegmap_direct\\rest\\hc\\hc17.set.mat.pt\n",
      "torch.Size([120225, 10, 11])\n",
      "../eegmap_direct\\rest\\hc\\hc18.set.mat.pt\n",
      "torch.Size([110748, 10, 11])\n",
      "../eegmap_direct\\rest\\hc\\hc21.set.mat.pt\n",
      "torch.Size([119047, 10, 11])\n",
      "../eegmap_direct\\rest\\hc\\hc22.set.mat.pt\n",
      "torch.Size([117450, 10, 11])\n",
      "../eegmap_direct\\rest\\hc\\hc3.set.mat.pt\n",
      "torch.Size([116849, 10, 11])\n",
      "../eegmap_direct\\rest\\hc\\hc5.set.mat.pt\n",
      "torch.Size([118235, 10, 11])\n",
      "../eegmap_direct\\rest\\hc\\hc6.set.mat.pt\n",
      "torch.Size([113920, 10, 11])\n",
      "../eegmap_direct\\rest\\hc\\hc7.set.mat.pt\n",
      "torch.Size([113935, 10, 11])\n",
      "../eegmap_direct\\rest\\hc\\hc8.set.mat.pt\n",
      "torch.Size([125408, 10, 11])\n",
      "../eegmap_direct\\rest\\hc\\hc9.set.mat.pt\n",
      "torch.Size([118521, 10, 11])\n",
      "\n"
     ]
    }
   ],
   "source": [
    "root_dir = \"../eegmap_direct\"\n",
    "# experimental dir: rest, conditionA, conditionB, conditionC\n",
    "exper_dir = \"rest\"\n",
    "# condition_dir: hc, mcs, uws\n",
    "condi_dir = \"hc\"\n",
    "dataset = MyData(root_dir, exper_dir, condi_dir) # eg.conditionA/hc\n",
    "for person in tqdm(range(len(dataset))):\n",
    "    filename = os.path.join(dataset.path, dataset.file_path[person])\n",
    "    data_map = torch.load(filename)\n",
    "    print(filename)\n",
    "    print(data_map.size())"
   ]
  },
  {
   "cell_type": "code",
   "execution_count": 3,
   "id": "d810caa7",
   "metadata": {},
   "outputs": [
    {
     "name": "stdout",
     "output_type": "stream",
     "text": [
      "torch.Size([61, 2400, 10, 11])\n"
     ]
    }
   ],
   "source": []
  }
 ],
 "metadata": {
  "kernelspec": {
   "display_name": "Python [conda env:anaconda3_environments-pytorch] *",
   "language": "python",
   "name": "conda-env-anaconda3_environments-pytorch-py"
  },
  "language_info": {
   "codemirror_mode": {
    "name": "ipython",
    "version": 3
   },
   "file_extension": ".py",
   "mimetype": "text/x-python",
   "name": "python",
   "nbconvert_exporter": "python",
   "pygments_lexer": "ipython3",
   "version": "3.6.13"
  }
 },
 "nbformat": 4,
 "nbformat_minor": 5
}
