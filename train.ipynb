{
 "cells": [
  {
   "cell_type": "markdown",
   "id": "6cddff75",
   "metadata": {},
   "source": [
    "# 1. Necessary Headfiles"
   ]
  },
  {
   "cell_type": "code",
   "execution_count": 43,
   "id": "70cd5753",
   "metadata": {},
   "outputs": [],
   "source": [
    "import torch\n",
    "import torchvision\n",
    "from torch.utils.tensorboard import SummaryWriter\n",
    "import time\n",
    "from torch import nn\n",
    "from torch.utils.data import DataLoader\n",
    "from load_data import MyData  # self-made\n",
    "from torchvision import transforms\n",
    "from tqdm import tqdm_notebook as tqdm # View procedure\n",
    "import os\n",
    "import scipy.io\n",
    "from random import random\n",
    "import numpy as np"
   ]
  },
  {
   "cell_type": "markdown",
   "id": "3b954b1d",
   "metadata": {},
   "source": [
    "# 2. Prepare Datasets"
   ]
  },
  {
   "cell_type": "markdown",
   "id": "c60bb163",
   "metadata": {},
   "source": [
    "## 2.1. Navigate to the data folder "
   ]
  },
  {
   "cell_type": "markdown",
   "id": "7ae83d12",
   "metadata": {},
   "source": [
    "## 2.2. Load the data"
   ]
  },
  {
   "cell_type": "code",
   "execution_count": 38,
   "id": "b29e5e1c",
   "metadata": {},
   "outputs": [
    {
     "data": {
      "application/vnd.jupyter.widget-view+json": {
       "model_id": "88169d9806994aff850fe4e116c6f63f",
       "version_major": 2,
       "version_minor": 0
      },
      "text/plain": [
       "HBox(children=(IntProgress(value=0, max=20), HTML(value='')))"
      ]
     },
     "metadata": {},
     "output_type": "display_data"
    },
    {
     "name": "stdout",
     "output_type": "stream",
     "text": [
      "Length of the data: (59, 2400, 62)\n",
      "Length of the data: (59, 2400, 43)\n",
      "Length of the data: (59, 2400, 63)\n",
      "Length of the data: (59, 2400, 62)\n",
      "Length of the data: (59, 2400, 59)\n",
      "Length of the data: (59, 2400, 64)\n",
      "Length of the data: (59, 2400, 62)\n",
      "Length of the data: (59, 2400, 58)\n",
      "Length of the data: (59, 2400, 62)\n",
      "Length of the data: (59, 2400, 58)\n",
      "Length of the data: (59, 2400, 66)\n",
      "Length of the data: (59, 2400, 66)\n",
      "Length of the data: (59, 2400, 66)\n",
      "Length of the data: (59, 2400, 66)\n",
      "Length of the data: (59, 2400, 58)\n",
      "Length of the data: (59, 2400, 63)\n",
      "Length of the data: (59, 2400, 66)\n",
      "Length of the data: (59, 2400, 63)\n",
      "Length of the data: (59, 2400, 61)\n",
      "Length of the data: (59, 2400, 63)\n",
      "\n"
     ]
    }
   ],
   "source": [
    "root_dir = \"../eegdata\"\n",
    "# experimental dir: rest, conditionA, conditionB, conditionC\n",
    "exper_dir = \"conditionC\"\n",
    "# condition_dir: hc, mcs, uws\n",
    "condi_dir = \"hc\"\n",
    "\n",
    "rest_hc_dataset = MyData(root_dir,exper_dir,condi_dir)\n",
    "# filepath是最子文件夹中每个.mat文件的名字\n",
    "# path是包含当前情况的.mat文件的子文件夹\n",
    "# length = len(rest_hc_dataset)\n",
    "for i in tqdm(range(len(rest_hc_dataset))):\n",
    "    filename = os.path.join(rest_hc_dataset.path,rest_hc_dataset.file_path[i])\n",
    "    mat = scipy.io.loadmat(filename)\n",
    "    print(f\"Length of the data: {mat['datas'].shape}\")\n"
   ]
  },
  {
   "cell_type": "code",
   "execution_count": 50,
   "id": "af50d93f",
   "metadata": {},
   "outputs": [],
   "source": [
    "matrix_index = np.array([\n",
    "    [0,0,2,2,4,4,6,6,8,8,2,2,4,4,6,6,2,4,6,3,3,5,5,3,3,5,5,3,3,2,2,4,4,6,6,1,1,3,3,5,5,7,7,2,2,4,4,6,6,1,1,3,3,5,5,7,7,0,5],\n",
    "    [4,6,3,7,3,7,3,7,4,6,1,9,1,9,1,9,5,5,5,4,6,4,6,2,8,2,8,0,10,4,6,4,6,4,6,4,6,3,7,3,7,4,6,2,8,2,8,2,8,3,7,1,9,1,9,3,7,5,5]\n",
    "])"
   ]
  },
  {
   "cell_type": "code",
   "execution_count": 51,
   "id": "ea711df2",
   "metadata": {},
   "outputs": [
    {
     "name": "stdout",
     "output_type": "stream",
     "text": [
      "(2, 59)\n"
     ]
    }
   ],
   "source": [
    "print(matrix_index.shape)"
   ]
  },
  {
   "cell_type": "code",
   "execution_count": 52,
   "id": "5ff06289",
   "metadata": {},
   "outputs": [],
   "source": [
    "matrix_data = np.arange(1,60).reshape(59,1)\n",
    "# print(matrix_data)"
   ]
  },
  {
   "cell_type": "code",
   "execution_count": 55,
   "id": "b9119656",
   "metadata": {},
   "outputs": [
    {
     "ename": "NameError",
     "evalue": "name 'zeros' is not defined",
     "output_type": "error",
     "traceback": [
      "\u001b[1;31m---------------------------------------------------------------------------\u001b[0m",
      "\u001b[1;31mNameError\u001b[0m                                 Traceback (most recent call last)",
      "\u001b[1;32m<ipython-input-55-3082b9d48810>\u001b[0m in \u001b[0;36m<module>\u001b[1;34m\u001b[0m\n\u001b[1;32m----> 1\u001b[1;33m \u001b[0meeg_map\u001b[0m \u001b[1;33m=\u001b[0m \u001b[0mzeros\u001b[0m\u001b[1;33m(\u001b[0m\u001b[1;36m10\u001b[0m\u001b[1;33m,\u001b[0m\u001b[1;36m10\u001b[0m\u001b[1;33m)\u001b[0m\u001b[1;33m\u001b[0m\u001b[1;33m\u001b[0m\u001b[0m\n\u001b[0m\u001b[0;32m      2\u001b[0m \u001b[1;32mfor\u001b[0m \u001b[0mi\u001b[0m \u001b[1;32min\u001b[0m \u001b[0mrange\u001b[0m\u001b[1;33m(\u001b[0m\u001b[0mmatrix_index\u001b[0m\u001b[1;33m.\u001b[0m\u001b[0mshape\u001b[0m\u001b[1;33m[\u001b[0m\u001b[1;36m1\u001b[0m\u001b[1;33m]\u001b[0m\u001b[1;33m)\u001b[0m\u001b[1;33m:\u001b[0m\u001b[1;33m\u001b[0m\u001b[1;33m\u001b[0m\u001b[0m\n\u001b[0;32m      3\u001b[0m     \u001b[1;32mpass\u001b[0m\u001b[1;33m\u001b[0m\u001b[1;33m\u001b[0m\u001b[0m\n",
      "\u001b[1;31mNameError\u001b[0m: name 'zeros' is not defined"
     ]
    }
   ],
   "source": [
    "eeg_map = np.zeros((10,10))\n",
    "for i in range(matrix_index.shape[1]):\n",
    "    eeg_map[matrix_index[0][i]][matrix_index[1][i]]=matrix_data"
   ]
  },
  {
   "cell_type": "code",
   "execution_count": 60,
   "id": "a9f73066",
   "metadata": {},
   "outputs": [
    {
     "name": "stdout",
     "output_type": "stream",
     "text": [
      "6\n"
     ]
    }
   ],
   "source": [
    "print(matrix_index[1][1])"
   ]
  }
 ],
 "metadata": {
  "kernelspec": {
   "display_name": "Python [conda env:anaconda3_environments-pytorch] *",
   "language": "python",
   "name": "conda-env-anaconda3_environments-pytorch-py"
  },
  "language_info": {
   "codemirror_mode": {
    "name": "ipython",
    "version": 3
   },
   "file_extension": ".py",
   "mimetype": "text/x-python",
   "name": "python",
   "nbconvert_exporter": "python",
   "pygments_lexer": "ipython3",
   "version": "3.6.13"
  }
 },
 "nbformat": 4,
 "nbformat_minor": 5
}
