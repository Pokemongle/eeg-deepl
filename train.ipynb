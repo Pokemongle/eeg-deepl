{
 "cells": [
  {
   "cell_type": "markdown",
   "id": "089503e4",
   "metadata": {},
   "source": [
    "# Head Files"
   ]
  },
  {
   "cell_type": "code",
   "execution_count": 3,
   "id": "2a0232fd",
   "metadata": {},
   "outputs": [],
   "source": [
    "import torch\n",
    "import torchvision\n",
    "# from torch.utils.tensorboard import SummaryWriter\n",
    "import time\n",
    "from torch import nn\n",
    "from torch.utils.data import DataLoader\n",
    "from load_data import MyData  # self-made\n",
    "from torchvision import transforms\n",
    "from tqdm import tqdm_notebook as tqdm # View procedure\n",
    "import os\n",
    "import scipy.io\n",
    "from random import random\n",
    "import numpy as np\n",
    "import gc\n",
    "from torch.utils.tensorboard import SummaryWriter\n",
    "from network_cnn import MyNetwork"
   ]
  },
  {
   "cell_type": "markdown",
   "id": "8d854be2",
   "metadata": {},
   "source": [
    "# 1. Prepare datasets"
   ]
  },
  {
   "cell_type": "code",
   "execution_count": 19,
   "id": "521251cd",
   "metadata": {},
   "outputs": [
    {
     "name": "stdout",
     "output_type": "stream",
     "text": [
      "torch.Size([852, 2400, 10, 11])\n",
      "torch.Size([1051, 2400, 10, 11])\n",
      "torch.Size([872, 2400, 10, 11])\n"
     ]
    }
   ],
   "source": [
    "hc_path = f\"../eegmap_chunks/rest/hc/hc_rest.pt\"\n",
    "mcs_path = f\"../eegmap_chunks/rest/mcs/mcs_rest.pt\"\n",
    "uws_path = f\"../eegmap_chunks/rest/uws/uws_rest.pt\"\n",
    "hc = torch.load(hc_path)\n",
    "mcs = torch.load(mcs_path)\n",
    "uws = torch.load(uws_path)\n",
    "print(hc.size())\n",
    "print(mcs.size())\n",
    "print(uws.size())"
   ]
  },
  {
   "cell_type": "markdown",
   "id": "15383add",
   "metadata": {},
   "source": [
    "## 1.1 Map Data"
   ]
  },
  {
   "cell_type": "code",
   "execution_count": 12,
   "id": "737bd0a4",
   "metadata": {},
   "outputs": [],
   "source": [
    "# del hc_indices\n",
    "# del train_hc\n",
    "# del test_hc\n",
    "gc.collect()\n",
    "torch.cuda.empty_cache()\n",
    "\n",
    "# generate random seed\n",
    "torch.manual_seed(32)\n",
    "# generate random index\n",
    "hc_indices = torch.randperm(len(hc))\n",
    "mcs_indices = torch.randperm(len(mcs))\n",
    "uws_indices = torch.randperm(len(uws))\n",
    "# split the datasets\n",
    "len_hc = len(hc)\n",
    "train_size = int(0.8*len_hc)\n",
    "train_hc = hc[hc_indices[:train_size]]\n",
    "test_hc = hc[hc_indices[train_size:]]\n",
    "torch.save(train_hc, \"../eegmap_chunks/rest/hc/rest_hc_train.pt\")\n",
    "torch.save(test_hc, \"../eegmap_chunks/rest/hc/rest_hc_test.pt\")\n",
    "del hc_indices\n",
    "del train_hc\n",
    "del test_hc\n",
    "gc.collect()\n",
    "torch.cuda.empty_cache()\n",
    "\n",
    "len_mcs = len(mcs)\n",
    "train_size = int(0.8*len_mcs)\n",
    "train_mcs = mcs[mcs_indices[:train_size]]\n",
    "test_mcs = mcs[mcs_indices[train_size:]]\n",
    "torch.save(train_mcs, \"../eegmap_chunks/rest/mcs/rest_mcs_train.pt\")\n",
    "torch.save(test_mcs, \"../eegmap_chunks/rest/mcs/rest_mcs_test.pt\")\n",
    "del mcs_indices\n",
    "del train_mcs\n",
    "del test_mcs\n",
    "gc.collect()\n",
    "torch.cuda.empty_cache()\n",
    "\n",
    "len_uws = len(uws)\n",
    "train_size = int(0.8*len_uws)\n",
    "train_uws = uws[uws_indices[:train_size]]\n",
    "test_uws = uws[uws_indices[train_size:]]\n",
    "torch.save(train_uws, \"../eegmap_chunks/rest/uws/rest_uws_train.pt\")\n",
    "torch.save(test_uws, \"../eegmap_chunks/rest/uws/rest_uws_test.pt\")\n",
    "del uws_indices\n",
    "del train_uws\n",
    "del test_uws\n",
    "gc.collect()\n",
    "torch.cuda.empty_cache()"
   ]
  },
  {
   "cell_type": "markdown",
   "id": "f0c23ded",
   "metadata": {},
   "source": [
    "## 1.2 Labels"
   ]
  },
  {
   "cell_type": "code",
   "execution_count": 26,
   "id": "38980372",
   "metadata": {},
   "outputs": [
    {
     "name": "stdout",
     "output_type": "stream",
     "text": [
      "torch.Size([171, 2400, 10, 11])\n",
      "torch.Size([211, 2400, 10, 11])\n",
      "torch.Size([175, 2400, 10, 11])\n"
     ]
    }
   ],
   "source": [
    "data_mode = \"test\"\n",
    "hc_path = f\"../eegmap_chunks/rest/hc/rest_hc_{data_mode}.pt\"\n",
    "mcs_path = f\"../eegmap_chunks/rest/mcs/rest_mcs_{data_mode}.pt\"\n",
    "uws_path = f\"../eegmap_chunks/rest/uws/rest_uws_{data_mode}.pt\"\n",
    "hc=torch.load(hc_path)\n",
    "print(hc.size())\n",
    "mcs = torch.load(mcs_path)\n",
    "print(mcs.size())\n",
    "uws=torch.load(uws_path)\n",
    "print(uws.size())"
   ]
  },
  {
   "cell_type": "code",
   "execution_count": 27,
   "id": "d7379eab",
   "metadata": {},
   "outputs": [],
   "source": [
    "label_hc = torch.zeros(len(hc))\n",
    "label_mcs = torch.ones(len(mcs))\n",
    "label_uws = torch.ones(len(uws)) * 2\n",
    "torch.save(label_hc, f\"../eegmap_chunks/rest/hc/rest_hc_{data_mode}_label.pt\")\n",
    "torch.save(label_mcs, f\"../eegmap_chunks/rest/mcs/rest_mcs_{data_mode}_label.pt\")\n",
    "torch.save(label_uws, f\"../eegmap_chunks/rest/uws/rest_uws_{data_mode}_label.pt\")"
   ]
  },
  {
   "cell_type": "code",
   "execution_count": 38,
   "id": "57d58672",
   "metadata": {},
   "outputs": [
    {
     "ename": "NameError",
     "evalue": "name 'hc' is not defined",
     "output_type": "error",
     "traceback": [
      "\u001b[1;31m---------------------------------------------------------------------------\u001b[0m",
      "\u001b[1;31mNameError\u001b[0m                                 Traceback (most recent call last)",
      "\u001b[1;32m<ipython-input-38-be4df676033a>\u001b[0m in \u001b[0;36m<module>\u001b[1;34m\u001b[0m\n\u001b[1;32m----> 1\u001b[1;33m \u001b[1;32mdel\u001b[0m \u001b[0mhc\u001b[0m\u001b[1;33m\u001b[0m\u001b[1;33m\u001b[0m\u001b[0m\n\u001b[0m\u001b[0;32m      2\u001b[0m \u001b[1;32mdel\u001b[0m \u001b[0mmcs\u001b[0m\u001b[1;33m\u001b[0m\u001b[1;33m\u001b[0m\u001b[0m\n\u001b[0;32m      3\u001b[0m \u001b[1;32mdel\u001b[0m \u001b[0muws\u001b[0m\u001b[1;33m\u001b[0m\u001b[1;33m\u001b[0m\u001b[0m\n\u001b[0;32m      4\u001b[0m \u001b[0mgc\u001b[0m\u001b[1;33m.\u001b[0m\u001b[0mcollect\u001b[0m\u001b[1;33m(\u001b[0m\u001b[1;33m)\u001b[0m\u001b[1;33m\u001b[0m\u001b[1;33m\u001b[0m\u001b[0m\n\u001b[0;32m      5\u001b[0m \u001b[0mtorch\u001b[0m\u001b[1;33m.\u001b[0m\u001b[0mcuda\u001b[0m\u001b[1;33m.\u001b[0m\u001b[0mempty_cache\u001b[0m\u001b[1;33m(\u001b[0m\u001b[1;33m)\u001b[0m\u001b[1;33m\u001b[0m\u001b[1;33m\u001b[0m\u001b[0m\n",
      "\u001b[1;31mNameError\u001b[0m: name 'hc' is not defined"
     ]
    }
   ],
   "source": [
    "del hc\n",
    "del mcs\n",
    "del uws\n",
    "gc.collect()\n",
    "torch.cuda.empty_cache()"
   ]
  },
  {
   "cell_type": "markdown",
   "id": "dc397cc8",
   "metadata": {},
   "source": [
    "## 1.3 Trainset and Testset"
   ]
  },
  {
   "cell_type": "code",
   "execution_count": 69,
   "id": "1d045416",
   "metadata": {},
   "outputs": [],
   "source": [
    "train_hc = torch.load(\"../eegmap_chunks/rest/hc/rest_hc_train.pt\")\n",
    "test_hc = torch.load(\"../eegmap_chunks/rest/hc/rest_hc_test.pt\")\n",
    "train_mcs = torch.load(\"../eegmap_chunks/rest/mcs/rest_mcs_train.pt\")\n",
    "test_mcs = torch.load(\"../eegmap_chunks/rest/mcs/rest_mcs_test.pt\")\n",
    "train_uws = torch.load(\"../eegmap_chunks/rest/uws/rest_uws_train.pt\")\n",
    "test_uws = torch.load(\"../eegmap_chunks/rest/uws/rest_uws_test.pt\")\n",
    "train_hc_label = torch.load(\"../eegmap_chunks/rest/hc/rest_hc_train_label.pt\")\n",
    "test_hc_label = torch.load(\"../eegmap_chunks/rest/hc/rest_hc_test_label.pt\")\n",
    "train_mcs_label = torch.load(\"../eegmap_chunks/rest/mcs/rest_mcs_train_label.pt\")\n",
    "test_mcs_label = torch.load(\"../eegmap_chunks/rest/mcs/rest_mcs_test_label.pt\")\n",
    "train_uws_label = torch.load(\"../eegmap_chunks/rest/uws/rest_uws_train_label.pt\")\n",
    "test_uws_label = torch.load(\"../eegmap_chunks/rest/uws/rest_uws_test_label.pt\")"
   ]
  },
  {
   "cell_type": "code",
   "execution_count": 70,
   "id": "b3f9720c",
   "metadata": {},
   "outputs": [
    {
     "name": "stdout",
     "output_type": "stream",
     "text": [
      "torch.Size([681, 2400, 10, 11])\n",
      "torch.Size([840, 2400, 10, 11])\n",
      "torch.Size([697, 2400, 10, 11])\n",
      "torch.Size([2400, 10, 11])\n"
     ]
    },
    {
     "data": {
      "application/vnd.jupyter.widget-view+json": {
       "model_id": "5062330070da4a00892bf8ac2f74a5dc",
       "version_major": 2,
       "version_minor": 0
      },
      "text/plain": [
       "HBox(children=(IntProgress(value=0, max=681), HTML(value='')))"
      ]
     },
     "metadata": {},
     "output_type": "display_data"
    },
    {
     "name": "stdout",
     "output_type": "stream",
     "text": [
      "\n"
     ]
    },
    {
     "data": {
      "application/vnd.jupyter.widget-view+json": {
       "model_id": "109a45f6e1f44b8ba7cf455df63e35a8",
       "version_major": 2,
       "version_minor": 0
      },
      "text/plain": [
       "HBox(children=(IntProgress(value=0, max=840), HTML(value='')))"
      ]
     },
     "metadata": {},
     "output_type": "display_data"
    },
    {
     "name": "stdout",
     "output_type": "stream",
     "text": [
      "\n"
     ]
    },
    {
     "data": {
      "application/vnd.jupyter.widget-view+json": {
       "model_id": "798c118478864ea7954c03debbaa5897",
       "version_major": 2,
       "version_minor": 0
      },
      "text/plain": [
       "HBox(children=(IntProgress(value=0, max=697), HTML(value='')))"
      ]
     },
     "metadata": {},
     "output_type": "display_data"
    },
    {
     "name": "stdout",
     "output_type": "stream",
     "text": [
      "\n",
      "2218\n",
      "2218\n"
     ]
    },
    {
     "data": {
      "application/vnd.jupyter.widget-view+json": {
       "model_id": "869ed76f957c423f95e6b2459f62ef1f",
       "version_major": 2,
       "version_minor": 0
      },
      "text/plain": [
       "HBox(children=(IntProgress(value=0, max=171), HTML(value='')))"
      ]
     },
     "metadata": {},
     "output_type": "display_data"
    },
    {
     "name": "stdout",
     "output_type": "stream",
     "text": [
      "\n"
     ]
    },
    {
     "data": {
      "application/vnd.jupyter.widget-view+json": {
       "model_id": "cc3aa6097d104ff3887334f4e1fbcbeb",
       "version_major": 2,
       "version_minor": 0
      },
      "text/plain": [
       "HBox(children=(IntProgress(value=0, max=211), HTML(value='')))"
      ]
     },
     "metadata": {},
     "output_type": "display_data"
    },
    {
     "name": "stdout",
     "output_type": "stream",
     "text": [
      "\n"
     ]
    },
    {
     "data": {
      "application/vnd.jupyter.widget-view+json": {
       "model_id": "a486d5a104694a3297eb761b394965a5",
       "version_major": 2,
       "version_minor": 0
      },
      "text/plain": [
       "HBox(children=(IntProgress(value=0, max=175), HTML(value='')))"
      ]
     },
     "metadata": {},
     "output_type": "display_data"
    },
    {
     "name": "stdout",
     "output_type": "stream",
     "text": [
      "\n",
      "557\n",
      "557\n"
     ]
    }
   ],
   "source": [
    "print(train_hc.size())\n",
    "print(train_mcs.size())\n",
    "print(train_uws.size())\n",
    "train_data = []\n",
    "train_label = []\n",
    "test_data = []\n",
    "test_label = []\n",
    "print(train_hc[0].size())\n",
    "# train dataset\n",
    "for i in tqdm(range(len(train_hc))):\n",
    "    train_data.append(train_hc[i])\n",
    "    train_label.append(train_hc_label[i])\n",
    "for i in tqdm(range(len(train_mcs))):\n",
    "    train_data.append(train_mcs[i])\n",
    "    train_label.append(train_mcs_label[i])\n",
    "for i in tqdm(range(len(train_uws))):\n",
    "    train_data.append(train_uws[i])\n",
    "    train_label.append(train_uws_label[i])\n",
    "print(len(train_data))\n",
    "print(len(train_label))\n",
    "# test dataset\n",
    "for i in tqdm(range(len(test_hc))):\n",
    "    test_data.append(test_hc[i])\n",
    "    test_label.append(test_hc_label[i])\n",
    "for i in tqdm(range(len(test_mcs))):\n",
    "    test_data.append(test_mcs[i])\n",
    "    test_label.append(test_mcs_label[i])\n",
    "for i in tqdm(range(len(test_uws))):\n",
    "    test_data.append(test_uws[i])\n",
    "    test_label.append(test_uws_label[i])\n",
    "print(len(test_data))\n",
    "print(len(test_label))"
   ]
  },
  {
   "cell_type": "code",
   "execution_count": 71,
   "id": "7c34814a",
   "metadata": {},
   "outputs": [],
   "source": [
    "torch.save(torch.stack(train_data),f\"../eegmap_chunks/rest/train_data.pt\")\n",
    "torch.save(torch.stack(train_label),f\"../eegmap_chunks/rest/train_label.pt\")\n",
    "torch.save(torch.stack(test_data),f\"../eegmap_chunks/rest/test_data.pt\")\n",
    "torch.save(torch.stack(test_label),f\"../eegmap_chunks/rest/test_label.pt\")"
   ]
  },
  {
   "cell_type": "code",
   "execution_count": 72,
   "id": "2a1c982a",
   "metadata": {},
   "outputs": [],
   "source": [
    "del train_hc\n",
    "del test_hc\n",
    "del train_mcs\n",
    "del test_mcs\n",
    "del train_uws\n",
    "del test_uws\n",
    "del train_hc_label\n",
    "del test_hc_label\n",
    "del train_mcs_label\n",
    "del test_mcs_label\n",
    "del train_uws_label\n",
    "del test_uws_label\n",
    "del train_data\n",
    "del train_label\n",
    "del test_data\n",
    "del test_label\n",
    "gc.collect()\n",
    "torch.cuda.empty_cache()"
   ]
  },
  {
   "cell_type": "markdown",
   "id": "cf4cde12",
   "metadata": {},
   "source": [
    "# 2. Train the model"
   ]
  },
  {
   "cell_type": "markdown",
   "id": "a12b4035",
   "metadata": {},
   "source": [
    "## Load data and labels via .pt files"
   ]
  },
  {
   "cell_type": "code",
   "execution_count": 4,
   "id": "5d8ba60c",
   "metadata": {},
   "outputs": [],
   "source": [
    "train_data = torch.load(f\"../eegmap_chunks/rest/train_data.pt\")\n",
    "train_label = torch.load(f\"../eegmap_chunks/rest/train_label.pt\")\n",
    "test_data = torch.load(f\"../eegmap_chunks/rest/test_data.pt\")\n",
    "test_label = torch.load(f\"../eegmap_chunks/rest/test_label.pt\")"
   ]
  },
  {
   "cell_type": "code",
   "execution_count": 5,
   "id": "f872df46",
   "metadata": {},
   "outputs": [
    {
     "name": "stdout",
     "output_type": "stream",
     "text": [
      "torch.Size([2218, 2400, 10, 11])\n",
      "torch.Size([2218])\n",
      "torch.Size([557, 2400, 10, 11])\n",
      "torch.Size([557])\n"
     ]
    }
   ],
   "source": [
    "print(train_data.size())\n",
    "print(train_label.size())\n",
    "print(test_data.size())\n",
    "print(test_label.size())"
   ]
  },
  {
   "cell_type": "markdown",
   "id": "79f8e967",
   "metadata": {},
   "source": [
    "## Hyperparameters and Related parameters"
   ]
  },
  {
   "cell_type": "code",
   "execution_count": 6,
   "id": "ca0a7500",
   "metadata": {},
   "outputs": [],
   "source": [
    "BATCH_SIZE = 64\n",
    "C,H,W = 1,1,2400\n",
    "learn_rate = 0.001\n",
    "num_epochs = 100"
   ]
  },
  {
   "cell_type": "code",
   "execution_count": 7,
   "id": "ac0a69de",
   "metadata": {},
   "outputs": [],
   "source": [
    "from torch.utils.data import TensorDataset\n",
    "from torch.utils.data import DataLoader\n",
    "# train dataset\n",
    "train_td = TensorDataset(train_data, train_label)\n",
    "train_loader = DataLoader(train_td, batch_size = BATCH_SIZE, shuffle = True)\n",
    "# test dataset\n",
    "test_td = TensorDataset(test_data, test_label)\n",
    "test_loader = DataLoader(test_td, batch_size = BATCH_SIZE, shuffle = True)"
   ]
  },
  {
   "cell_type": "code",
   "execution_count": 8,
   "id": "e5683b9f",
   "metadata": {},
   "outputs": [],
   "source": [
    "del train_data\n",
    "del train_label\n",
    "del test_data\n",
    "del test_label\n",
    "del train_td\n",
    "del test_td\n",
    "gc.collect()\n",
    "torch.cuda.empty_cache()"
   ]
  },
  {
   "cell_type": "markdown",
   "id": "45c43a00",
   "metadata": {},
   "source": [
    "## Ensuring deterministicity through Random seeding"
   ]
  },
  {
   "cell_type": "code",
   "execution_count": 9,
   "id": "e92d241c",
   "metadata": {},
   "outputs": [],
   "source": [
    "import random\n",
    "torch.backends.cudnn.deterministic = True\n",
    "torch.backends.cudnn.benchmark = False\n",
    "manualSeed = 4\n",
    "random.seed(manualSeed)\n",
    "torch.manual_seed(manualSeed)\n",
    "if torch.cuda.is_available():\n",
    "    torch.cuda.manual_seed(manualSeed)"
   ]
  },
  {
   "cell_type": "markdown",
   "id": "683f4e63",
   "metadata": {},
   "source": [
    "# Test Model Validation"
   ]
  },
  {
   "cell_type": "code",
   "execution_count": 89,
   "id": "36749980",
   "metadata": {},
   "outputs": [
    {
     "name": "stdout",
     "output_type": "stream",
     "text": [
      "Output shape: torch.Size([1, 30])\n",
      "MyNetwork(\n",
      "  (conv1): Sequential(\n",
      "    (0): Conv2d(1, 64, kernel_size=(1, 9), stride=(1, 3), padding=(0, 4))\n",
      "    (1): BatchNorm2d(64, eps=1e-05, momentum=0.1, affine=True, track_running_stats=True)\n",
      "    (2): ReLU(inplace=True)\n",
      "    (3): Conv2d(64, 32, kernel_size=(1, 1), stride=(1, 1))\n",
      "    (4): BatchNorm2d(32, eps=1e-05, momentum=0.1, affine=True, track_running_stats=True)\n",
      "    (5): ReLU(inplace=True)\n",
      "    (6): Conv2d(32, 16, kernel_size=(1, 1), stride=(1, 1))\n",
      "    (7): BatchNorm2d(16, eps=1e-05, momentum=0.1, affine=True, track_running_stats=True)\n",
      "    (8): ReLU(inplace=True)\n",
      "  )\n",
      "  (conv2_1): Sequential(\n",
      "    (0): Conv2d(16, 32, kernel_size=(1, 9), stride=(1, 2), padding=(0, 4))\n",
      "    (1): BatchNorm2d(32, eps=1e-05, momentum=0.1, affine=True, track_running_stats=True)\n",
      "    (2): ReLU(inplace=True)\n",
      "  )\n",
      "  (conv2_2): Sequential(\n",
      "    (0): Conv2d(16, 32, kernel_size=(1, 13), stride=(1, 2), padding=(0, 6))\n",
      "    (1): BatchNorm2d(32, eps=1e-05, momentum=0.1, affine=True, track_running_stats=True)\n",
      "    (2): ReLU(inplace=True)\n",
      "  )\n",
      "  (conv2_3): Sequential(\n",
      "    (0): Conv2d(16, 32, kernel_size=(1, 5), stride=(1, 2), padding=(0, 2))\n",
      "    (1): BatchNorm2d(32, eps=1e-05, momentum=0.1, affine=True, track_running_stats=True)\n",
      "    (2): ReLU(inplace=True)\n",
      "  )\n",
      "  (convspa): Sequential(\n",
      "    (0): Conv2d(96, 128, kernel_size=(2, 2), stride=(1, 1))\n",
      "    (1): BatchNorm2d(128, eps=1e-05, momentum=0.1, affine=True, track_running_stats=True)\n",
      "    (2): ReLU(inplace=True)\n",
      "    (3): Conv2d(128, 128, kernel_size=(2, 2), stride=(1, 1))\n",
      "    (4): BatchNorm2d(128, eps=1e-05, momentum=0.1, affine=True, track_running_stats=True)\n",
      "    (5): ReLU(inplace=True)\n",
      "    (6): Conv2d(128, 128, kernel_size=(2, 2), stride=(1, 1))\n",
      "    (7): BatchNorm2d(128, eps=1e-05, momentum=0.1, affine=True, track_running_stats=True)\n",
      "    (8): ReLU(inplace=True)\n",
      "    (9): Conv2d(128, 128, kernel_size=(2, 2), stride=(1, 1))\n",
      "    (10): BatchNorm2d(128, eps=1e-05, momentum=0.1, affine=True, track_running_stats=True)\n",
      "    (11): ReLU(inplace=True)\n",
      "    (12): Conv2d(128, 128, kernel_size=(2, 2), stride=(1, 1))\n",
      "    (13): BatchNorm2d(128, eps=1e-05, momentum=0.1, affine=True, track_running_stats=True)\n",
      "    (14): ReLU(inplace=True)\n",
      "    (15): Conv2d(128, 128, kernel_size=(2, 2), stride=(1, 1))\n",
      "    (16): BatchNorm2d(128, eps=1e-05, momentum=0.1, affine=True, track_running_stats=True)\n",
      "    (17): ReLU(inplace=True)\n",
      "    (18): Conv2d(128, 128, kernel_size=(2, 2), stride=(1, 1))\n",
      "    (19): BatchNorm2d(128, eps=1e-05, momentum=0.1, affine=True, track_running_stats=True)\n",
      "    (20): ReLU(inplace=True)\n",
      "    (21): Conv2d(128, 128, kernel_size=(2, 2), stride=(1, 1))\n",
      "    (22): BatchNorm2d(128, eps=1e-05, momentum=0.1, affine=True, track_running_stats=True)\n",
      "    (23): ReLU(inplace=True)\n",
      "    (24): Conv2d(128, 128, kernel_size=(2, 2), stride=(1, 1))\n",
      "    (25): BatchNorm2d(128, eps=1e-05, momentum=0.1, affine=True, track_running_stats=True)\n",
      "    (26): ReLU(inplace=True)\n",
      "    (27): Conv2d(128, 128, kernel_size=(1, 2), stride=(1, 1))\n",
      "    (28): BatchNorm2d(128, eps=1e-05, momentum=0.1, affine=True, track_running_stats=True)\n",
      "    (29): ReLU(inplace=True)\n",
      "    (30): Conv2d(128, 64, kernel_size=(1, 1), stride=(1, 1))\n",
      "    (31): BatchNorm2d(64, eps=1e-05, momentum=0.1, affine=True, track_running_stats=True)\n",
      "    (32): ReLU(inplace=True)\n",
      "  )\n",
      "  (conv3): Sequential(\n",
      "    (0): Conv2d(64, 128, kernel_size=(1, 5), stride=(1, 1), padding=(0, 2))\n",
      "    (1): BatchNorm2d(128, eps=1e-05, momentum=0.1, affine=True, track_running_stats=True)\n",
      "    (2): ReLU(inplace=True)\n",
      "    (3): MaxPool2d(kernel_size=(1, 2), stride=(1, 2), padding=0, dilation=1, ceil_mode=False)\n",
      "    (4): Conv2d(128, 64, kernel_size=(1, 1), stride=(1, 1))\n",
      "    (5): BatchNorm2d(64, eps=1e-05, momentum=0.1, affine=True, track_running_stats=True)\n",
      "    (6): ReLU(inplace=True)\n",
      "  )\n",
      "  (conv4): Sequential(\n",
      "    (0): Conv2d(64, 128, kernel_size=(1, 5), stride=(1, 1), padding=(0, 2))\n",
      "    (1): BatchNorm2d(128, eps=1e-05, momentum=0.1, affine=True, track_running_stats=True)\n",
      "    (2): ReLU(inplace=True)\n",
      "    (3): MaxPool2d(kernel_size=(1, 2), stride=(1, 2), padding=0, dilation=1, ceil_mode=False)\n",
      "    (4): Conv2d(128, 64, kernel_size=(1, 1), stride=(1, 1))\n",
      "    (5): BatchNorm2d(64, eps=1e-05, momentum=0.1, affine=True, track_running_stats=True)\n",
      "    (6): ReLU(inplace=True)\n",
      "  )\n",
      "  (conv5): Sequential(\n",
      "    (0): Conv2d(64, 128, kernel_size=(1, 5), stride=(1, 1), padding=(0, 2))\n",
      "    (1): BatchNorm2d(128, eps=1e-05, momentum=0.1, affine=True, track_running_stats=True)\n",
      "    (2): ReLU(inplace=True)\n",
      "    (3): MaxPool2d(kernel_size=(1, 2), stride=(1, 2), padding=0, dilation=1, ceil_mode=False)\n",
      "    (4): Conv2d(128, 64, kernel_size=(1, 1), stride=(1, 1))\n",
      "    (5): BatchNorm2d(64, eps=1e-05, momentum=0.1, affine=True, track_running_stats=True)\n",
      "    (6): ReLU(inplace=True)\n",
      "  )\n",
      "  (conv6): Sequential(\n",
      "    (0): Conv2d(64, 128, kernel_size=(1, 5), stride=(1, 1), padding=(0, 2))\n",
      "    (1): BatchNorm2d(128, eps=1e-05, momentum=0.1, affine=True, track_running_stats=True)\n",
      "    (2): ReLU(inplace=True)\n",
      "    (3): MaxPool2d(kernel_size=(1, 2), stride=(1, 2), padding=0, dilation=1, ceil_mode=False)\n",
      "    (4): Conv2d(128, 64, kernel_size=(1, 1), stride=(1, 1))\n",
      "    (5): BatchNorm2d(64, eps=1e-05, momentum=0.1, affine=True, track_running_stats=True)\n",
      "    (6): ReLU(inplace=True)\n",
      "  )\n",
      "  (fc): Linear(in_features=1600, out_features=30, bias=True)\n",
      "  (softmax): Softmax(dim=1)\n",
      ")\n"
     ]
    }
   ],
   "source": [
    "# 原始输入矩阵\n",
    "input_matrix = torch.randn(10, 11, 1, 1, 2400)\n",
    "\n",
    "# 重塑为 (110, 1, 1, 2400)\n",
    "reshaped_input = torch.reshape(input_matrix, (110, 1, 1, 2400))\n",
    "\n",
    "# 创建 MyNetwork 实例\n",
    "net = MyNetwork()\n",
    "\n",
    "# 将重塑后的输入传入网络进行处理\n",
    "output = net(reshaped_input)\n",
    "\n",
    "# 输出的形状\n",
    "print(\"Output shape:\", output.shape)\n",
    "print(MyNetwork())"
   ]
  },
  {
   "cell_type": "code",
   "execution_count": 108,
   "id": "1312250a",
   "metadata": {},
   "outputs": [],
   "source": [
    "del input_matrix\n",
    "del reshaped_input\n",
    "del net\n",
    "del output\n",
    "gc.collect()\n",
    "torch.cuda.empty_cache()"
   ]
  },
  {
   "cell_type": "markdown",
   "id": "d729b68e",
   "metadata": {},
   "source": [
    "## Setting the optimizer and Loss function"
   ]
  },
  {
   "cell_type": "code",
   "execution_count": 19,
   "id": "682c2f05",
   "metadata": {},
   "outputs": [],
   "source": [
    "import torch.optim as optim\n",
    "device = torch.device(\"cuda:0\")\n",
    "gc.collect()\n",
    "torch.cuda.empty_cache()\n",
    "model = MyNetwork()\n",
    "model = model.to(device)\n",
    "\n",
    "optimizer = optim.Adam(model.parameters(), lr = learn_rate)# Try out weight decay , \n",
    "scheduler = optim.lr_scheduler.MultiStepLR(optimizer, milestones=[90,190,450], gamma=0.1)\n",
    "\n",
    "criterion = nn.SmoothL1Loss()\n",
    "criterion = criterion.to(device)"
   ]
  },
  {
   "cell_type": "markdown",
   "id": "52033d16",
   "metadata": {},
   "source": [
    "## Initializing Tensorboard"
   ]
  },
  {
   "cell_type": "code",
   "execution_count": 95,
   "id": "3afd81ae",
   "metadata": {},
   "outputs": [],
   "source": [
    "# add Tensorboard\n",
    "writer = SummaryWriter(\"../logs_train\")\n"
   ]
  },
  {
   "cell_type": "markdown",
   "id": "5a3d9378",
   "metadata": {},
   "source": [
    "## Training"
   ]
  },
  {
   "cell_type": "code",
   "execution_count": 20,
   "id": "66243e2b",
   "metadata": {},
   "outputs": [
    {
     "data": {
      "application/vnd.jupyter.widget-view+json": {
       "model_id": "7ee229e50aad4313b348826f65febbde",
       "version_major": 2,
       "version_minor": 0
      },
      "text/plain": [
       "HBox(children=(IntProgress(value=0), HTML(value='')))"
      ]
     },
     "metadata": {},
     "output_type": "display_data"
    },
    {
     "ename": "RuntimeError",
     "evalue": "CUDA out of memory. Tried to allocate 344.00 MiB (GPU 0; 8.00 GiB total capacity; 7.16 GiB already allocated; 0 bytes free; 7.17 GiB reserved in total by PyTorch) If reserved memory is >> allocated memory try setting max_split_size_mb to avoid fragmentation.  See documentation for Memory Management and PYTORCH_CUDA_ALLOC_CONF",
     "output_type": "error",
     "traceback": [
      "\u001b[1;31m---------------------------------------------------------------------------\u001b[0m",
      "\u001b[1;31mRuntimeError\u001b[0m                              Traceback (most recent call last)",
      "\u001b[1;32m<ipython-input-20-892d5aa0c600>\u001b[0m in \u001b[0;36m<module>\u001b[1;34m\u001b[0m\n\u001b[0;32m     17\u001b[0m         \u001b[0mdata_map\u001b[0m\u001b[1;33m=\u001b[0m\u001b[0mdata_map\u001b[0m\u001b[1;33m.\u001b[0m\u001b[0mto\u001b[0m\u001b[1;33m(\u001b[0m\u001b[0mdevice\u001b[0m\u001b[1;33m)\u001b[0m\u001b[1;33m\u001b[0m\u001b[1;33m\u001b[0m\u001b[0m\n\u001b[0;32m     18\u001b[0m         \u001b[0mlabel\u001b[0m\u001b[1;33m=\u001b[0m\u001b[0mlabel\u001b[0m\u001b[1;33m.\u001b[0m\u001b[0mto\u001b[0m\u001b[1;33m(\u001b[0m\u001b[0mdevice\u001b[0m\u001b[1;33m)\u001b[0m\u001b[1;33m\u001b[0m\u001b[1;33m\u001b[0m\u001b[0m\n\u001b[1;32m---> 19\u001b[1;33m         \u001b[0mlabel_pred\u001b[0m \u001b[1;33m=\u001b[0m \u001b[0mmodel\u001b[0m\u001b[1;33m(\u001b[0m\u001b[0mdata_map\u001b[0m\u001b[1;33m)\u001b[0m\u001b[1;33m\u001b[0m\u001b[1;33m\u001b[0m\u001b[0m\n\u001b[0m\u001b[0;32m     20\u001b[0m \u001b[1;33m\u001b[0m\u001b[0m\n\u001b[0;32m     21\u001b[0m         \u001b[1;31m# Loss Computation and Optimization\u001b[0m\u001b[1;33m\u001b[0m\u001b[1;33m\u001b[0m\u001b[1;33m\u001b[0m\u001b[0m\n",
      "\u001b[1;32mD:\\AppData\\Local\\Programs\\anaconda3_environments\\envs\\pytorch\\lib\\site-packages\\torch\\nn\\modules\\module.py\u001b[0m in \u001b[0;36m_call_impl\u001b[1;34m(self, *input, **kwargs)\u001b[0m\n\u001b[0;32m   1100\u001b[0m         if not (self._backward_hooks or self._forward_hooks or self._forward_pre_hooks or _global_backward_hooks\n\u001b[0;32m   1101\u001b[0m                 or _global_forward_hooks or _global_forward_pre_hooks):\n\u001b[1;32m-> 1102\u001b[1;33m             \u001b[1;32mreturn\u001b[0m \u001b[0mforward_call\u001b[0m\u001b[1;33m(\u001b[0m\u001b[1;33m*\u001b[0m\u001b[0minput\u001b[0m\u001b[1;33m,\u001b[0m \u001b[1;33m**\u001b[0m\u001b[0mkwargs\u001b[0m\u001b[1;33m)\u001b[0m\u001b[1;33m\u001b[0m\u001b[1;33m\u001b[0m\u001b[0m\n\u001b[0m\u001b[0;32m   1103\u001b[0m         \u001b[1;31m# Do not call functions when jit is used\u001b[0m\u001b[1;33m\u001b[0m\u001b[1;33m\u001b[0m\u001b[1;33m\u001b[0m\u001b[0m\n\u001b[0;32m   1104\u001b[0m         \u001b[0mfull_backward_hooks\u001b[0m\u001b[1;33m,\u001b[0m \u001b[0mnon_full_backward_hooks\u001b[0m \u001b[1;33m=\u001b[0m \u001b[1;33m[\u001b[0m\u001b[1;33m]\u001b[0m\u001b[1;33m,\u001b[0m \u001b[1;33m[\u001b[0m\u001b[1;33m]\u001b[0m\u001b[1;33m\u001b[0m\u001b[1;33m\u001b[0m\u001b[0m\n",
      "\u001b[1;32mD:\\code\\bishe_trial\\src\\network_cnn.py\u001b[0m in \u001b[0;36mforward\u001b[1;34m(self, x)\u001b[0m\n\u001b[0;32m    113\u001b[0m     \u001b[1;32mdef\u001b[0m \u001b[0mforward\u001b[0m\u001b[1;33m(\u001b[0m\u001b[0mself\u001b[0m\u001b[1;33m,\u001b[0m \u001b[0mx\u001b[0m\u001b[1;33m)\u001b[0m\u001b[1;33m:\u001b[0m\u001b[1;33m\u001b[0m\u001b[1;33m\u001b[0m\u001b[0m\n\u001b[0;32m    114\u001b[0m         \u001b[1;31m# 前向传播过程\u001b[0m\u001b[1;33m\u001b[0m\u001b[1;33m\u001b[0m\u001b[1;33m\u001b[0m\u001b[0m\n\u001b[1;32m--> 115\u001b[1;33m         \u001b[0mx\u001b[0m \u001b[1;33m=\u001b[0m \u001b[0mself\u001b[0m\u001b[1;33m.\u001b[0m\u001b[0mconv1\u001b[0m\u001b[1;33m(\u001b[0m\u001b[0mx\u001b[0m\u001b[1;33m)\u001b[0m\u001b[1;33m\u001b[0m\u001b[1;33m\u001b[0m\u001b[0m\n\u001b[0m\u001b[0;32m    116\u001b[0m         \u001b[0mx1\u001b[0m \u001b[1;33m=\u001b[0m \u001b[0mself\u001b[0m\u001b[1;33m.\u001b[0m\u001b[0mconv2_1\u001b[0m\u001b[1;33m(\u001b[0m\u001b[0mx\u001b[0m\u001b[1;33m)\u001b[0m\u001b[1;33m\u001b[0m\u001b[1;33m\u001b[0m\u001b[0m\n\u001b[0;32m    117\u001b[0m         \u001b[0mx2\u001b[0m \u001b[1;33m=\u001b[0m \u001b[0mself\u001b[0m\u001b[1;33m.\u001b[0m\u001b[0mconv2_2\u001b[0m\u001b[1;33m(\u001b[0m\u001b[0mx\u001b[0m\u001b[1;33m)\u001b[0m\u001b[1;33m\u001b[0m\u001b[1;33m\u001b[0m\u001b[0m\n",
      "\u001b[1;32mD:\\AppData\\Local\\Programs\\anaconda3_environments\\envs\\pytorch\\lib\\site-packages\\torch\\nn\\modules\\module.py\u001b[0m in \u001b[0;36m_call_impl\u001b[1;34m(self, *input, **kwargs)\u001b[0m\n\u001b[0;32m   1100\u001b[0m         if not (self._backward_hooks or self._forward_hooks or self._forward_pre_hooks or _global_backward_hooks\n\u001b[0;32m   1101\u001b[0m                 or _global_forward_hooks or _global_forward_pre_hooks):\n\u001b[1;32m-> 1102\u001b[1;33m             \u001b[1;32mreturn\u001b[0m \u001b[0mforward_call\u001b[0m\u001b[1;33m(\u001b[0m\u001b[1;33m*\u001b[0m\u001b[0minput\u001b[0m\u001b[1;33m,\u001b[0m \u001b[1;33m**\u001b[0m\u001b[0mkwargs\u001b[0m\u001b[1;33m)\u001b[0m\u001b[1;33m\u001b[0m\u001b[1;33m\u001b[0m\u001b[0m\n\u001b[0m\u001b[0;32m   1103\u001b[0m         \u001b[1;31m# Do not call functions when jit is used\u001b[0m\u001b[1;33m\u001b[0m\u001b[1;33m\u001b[0m\u001b[1;33m\u001b[0m\u001b[0m\n\u001b[0;32m   1104\u001b[0m         \u001b[0mfull_backward_hooks\u001b[0m\u001b[1;33m,\u001b[0m \u001b[0mnon_full_backward_hooks\u001b[0m \u001b[1;33m=\u001b[0m \u001b[1;33m[\u001b[0m\u001b[1;33m]\u001b[0m\u001b[1;33m,\u001b[0m \u001b[1;33m[\u001b[0m\u001b[1;33m]\u001b[0m\u001b[1;33m\u001b[0m\u001b[1;33m\u001b[0m\u001b[0m\n",
      "\u001b[1;32mD:\\AppData\\Local\\Programs\\anaconda3_environments\\envs\\pytorch\\lib\\site-packages\\torch\\nn\\modules\\container.py\u001b[0m in \u001b[0;36mforward\u001b[1;34m(self, input)\u001b[0m\n\u001b[0;32m    139\u001b[0m     \u001b[1;32mdef\u001b[0m \u001b[0mforward\u001b[0m\u001b[1;33m(\u001b[0m\u001b[0mself\u001b[0m\u001b[1;33m,\u001b[0m \u001b[0minput\u001b[0m\u001b[1;33m)\u001b[0m\u001b[1;33m:\u001b[0m\u001b[1;33m\u001b[0m\u001b[1;33m\u001b[0m\u001b[0m\n\u001b[0;32m    140\u001b[0m         \u001b[1;32mfor\u001b[0m \u001b[0mmodule\u001b[0m \u001b[1;32min\u001b[0m \u001b[0mself\u001b[0m\u001b[1;33m:\u001b[0m\u001b[1;33m\u001b[0m\u001b[1;33m\u001b[0m\u001b[0m\n\u001b[1;32m--> 141\u001b[1;33m             \u001b[0minput\u001b[0m \u001b[1;33m=\u001b[0m \u001b[0mmodule\u001b[0m\u001b[1;33m(\u001b[0m\u001b[0minput\u001b[0m\u001b[1;33m)\u001b[0m\u001b[1;33m\u001b[0m\u001b[1;33m\u001b[0m\u001b[0m\n\u001b[0m\u001b[0;32m    142\u001b[0m         \u001b[1;32mreturn\u001b[0m \u001b[0minput\u001b[0m\u001b[1;33m\u001b[0m\u001b[1;33m\u001b[0m\u001b[0m\n\u001b[0;32m    143\u001b[0m \u001b[1;33m\u001b[0m\u001b[0m\n",
      "\u001b[1;32mD:\\AppData\\Local\\Programs\\anaconda3_environments\\envs\\pytorch\\lib\\site-packages\\torch\\nn\\modules\\module.py\u001b[0m in \u001b[0;36m_call_impl\u001b[1;34m(self, *input, **kwargs)\u001b[0m\n\u001b[0;32m   1100\u001b[0m         if not (self._backward_hooks or self._forward_hooks or self._forward_pre_hooks or _global_backward_hooks\n\u001b[0;32m   1101\u001b[0m                 or _global_forward_hooks or _global_forward_pre_hooks):\n\u001b[1;32m-> 1102\u001b[1;33m             \u001b[1;32mreturn\u001b[0m \u001b[0mforward_call\u001b[0m\u001b[1;33m(\u001b[0m\u001b[1;33m*\u001b[0m\u001b[0minput\u001b[0m\u001b[1;33m,\u001b[0m \u001b[1;33m**\u001b[0m\u001b[0mkwargs\u001b[0m\u001b[1;33m)\u001b[0m\u001b[1;33m\u001b[0m\u001b[1;33m\u001b[0m\u001b[0m\n\u001b[0m\u001b[0;32m   1103\u001b[0m         \u001b[1;31m# Do not call functions when jit is used\u001b[0m\u001b[1;33m\u001b[0m\u001b[1;33m\u001b[0m\u001b[1;33m\u001b[0m\u001b[0m\n\u001b[0;32m   1104\u001b[0m         \u001b[0mfull_backward_hooks\u001b[0m\u001b[1;33m,\u001b[0m \u001b[0mnon_full_backward_hooks\u001b[0m \u001b[1;33m=\u001b[0m \u001b[1;33m[\u001b[0m\u001b[1;33m]\u001b[0m\u001b[1;33m,\u001b[0m \u001b[1;33m[\u001b[0m\u001b[1;33m]\u001b[0m\u001b[1;33m\u001b[0m\u001b[1;33m\u001b[0m\u001b[0m\n",
      "\u001b[1;32mD:\\AppData\\Local\\Programs\\anaconda3_environments\\envs\\pytorch\\lib\\site-packages\\torch\\nn\\modules\\batchnorm.py\u001b[0m in \u001b[0;36mforward\u001b[1;34m(self, input)\u001b[0m\n\u001b[0;32m    177\u001b[0m             \u001b[0mbn_training\u001b[0m\u001b[1;33m,\u001b[0m\u001b[1;33m\u001b[0m\u001b[1;33m\u001b[0m\u001b[0m\n\u001b[0;32m    178\u001b[0m             \u001b[0mexponential_average_factor\u001b[0m\u001b[1;33m,\u001b[0m\u001b[1;33m\u001b[0m\u001b[1;33m\u001b[0m\u001b[0m\n\u001b[1;32m--> 179\u001b[1;33m             \u001b[0mself\u001b[0m\u001b[1;33m.\u001b[0m\u001b[0meps\u001b[0m\u001b[1;33m,\u001b[0m\u001b[1;33m\u001b[0m\u001b[1;33m\u001b[0m\u001b[0m\n\u001b[0m\u001b[0;32m    180\u001b[0m         )\n\u001b[0;32m    181\u001b[0m \u001b[1;33m\u001b[0m\u001b[0m\n",
      "\u001b[1;32mD:\\AppData\\Local\\Programs\\anaconda3_environments\\envs\\pytorch\\lib\\site-packages\\torch\\nn\\functional.py\u001b[0m in \u001b[0;36mbatch_norm\u001b[1;34m(input, running_mean, running_var, weight, bias, training, momentum, eps)\u001b[0m\n\u001b[0;32m   2281\u001b[0m \u001b[1;33m\u001b[0m\u001b[0m\n\u001b[0;32m   2282\u001b[0m     return torch.batch_norm(\n\u001b[1;32m-> 2283\u001b[1;33m         \u001b[0minput\u001b[0m\u001b[1;33m,\u001b[0m \u001b[0mweight\u001b[0m\u001b[1;33m,\u001b[0m \u001b[0mbias\u001b[0m\u001b[1;33m,\u001b[0m \u001b[0mrunning_mean\u001b[0m\u001b[1;33m,\u001b[0m \u001b[0mrunning_var\u001b[0m\u001b[1;33m,\u001b[0m \u001b[0mtraining\u001b[0m\u001b[1;33m,\u001b[0m \u001b[0mmomentum\u001b[0m\u001b[1;33m,\u001b[0m \u001b[0meps\u001b[0m\u001b[1;33m,\u001b[0m \u001b[0mtorch\u001b[0m\u001b[1;33m.\u001b[0m\u001b[0mbackends\u001b[0m\u001b[1;33m.\u001b[0m\u001b[0mcudnn\u001b[0m\u001b[1;33m.\u001b[0m\u001b[0menabled\u001b[0m\u001b[1;33m\u001b[0m\u001b[1;33m\u001b[0m\u001b[0m\n\u001b[0m\u001b[0;32m   2284\u001b[0m     )\n\u001b[0;32m   2285\u001b[0m \u001b[1;33m\u001b[0m\u001b[0m\n",
      "\u001b[1;31mRuntimeError\u001b[0m: CUDA out of memory. Tried to allocate 344.00 MiB (GPU 0; 8.00 GiB total capacity; 7.16 GiB already allocated; 0 bytes free; 7.17 GiB reserved in total by PyTorch) If reserved memory is >> allocated memory try setting max_split_size_mb to avoid fragmentation.  See documentation for Memory Management and PYTORCH_CUDA_ALLOC_CONF"
     ]
    }
   ],
   "source": [
    "start_time = time.time()\n",
    "# train and test step records\n",
    "total_train_step = 0\n",
    "total_test_step = 0\n",
    "min_test_loss = 1000\n",
    "\n",
    "for i in tqdm(range(num_epochs)):    \n",
    "    # train steps\n",
    "    model.train()\n",
    "    for data in train_loader:\n",
    "        data_map, label=data\n",
    "        data_map = torch.reshape(data_map, (110, 1, BATCH_SIZE, 2400))\n",
    "        data_map = data_map.to(torch.float32)\n",
    "        label = label.to(torch.float32)\n",
    "        gc.collect()\n",
    "        torch.cuda.empty_cache()\n",
    "        data_map=data_map.to(device)\n",
    "        label=label.to(device)\n",
    "        label_pred = model(data_map)\n",
    "        \n",
    "        # Loss Computation and Optimization\n",
    "        loss=criterion(label,label_pred)\n",
    "        optimizer.zero_grad()\n",
    "        loss.backward()\n",
    "        optimizer.step()\n",
    "        \n",
    "        # draw tensorboard\n",
    "        total_train_step = total_train_step + 1\n",
    "        # print info\n",
    "#         if total_train_step % 100 == 0:\n",
    "        end_time = time.time()\n",
    "        print(f\"Train time: {end_time - start_time}\")\n",
    "        print(f\"Train steps: {total_train_step}, Loss: {loss.item()}\")\n",
    "        writer.add_scalar(\"train_loss\",loss.item(),total_train_step)\n",
    "        \n",
    "        # Clear gpu\n",
    "        del data\n",
    "        del data_map\n",
    "        del label\n",
    "        del label_pred\n",
    "        del loss\n",
    "        gc.collect()\n",
    "        torch.cuda.empty_cache()\n",
    "        \n",
    "    # Evaluation and save the best model\n",
    "    print(f\"========= Epoch {i+1} Testing =========\")\n",
    "    model.eval()\n",
    "    total_test_loss = 0\n",
    "    with torch.no_grad():\n",
    "        for data in test_loader:\n",
    "            data_map, label=data\n",
    "            data_map = torch.reshape(data_map, (110, 1, 64, 2400))\n",
    "            data_map = data_map.to(torch.float32)\n",
    "            label = label.to(torch.float32)\n",
    "            data_map = data_map.to(device)\n",
    "            label = label.to(device)\n",
    "            label_pred_test = model(data_map)\n",
    "            loss = criterion(label_pred_test,label)\n",
    "            # draw tensorboad\n",
    "            total_test_loss = total_test_loss + loss\n",
    "            # Clear gpu\n",
    "            del data_map\n",
    "            del label\n",
    "            del label_pred_test\n",
    "            del loss\n",
    "            del data\n",
    "            gc.collect()\n",
    "            torch.cuda.empty_cache()\n",
    "    print(f\"Total Loss: {total_test_loss}\")\n",
    "    writer.add_scalar(\"test_loss\", total_test_loss, total_test_step)\n",
    "    total_test_step = total_test_step + 1\n",
    "    if total_test_loss < min_test_loss:\n",
    "        min_test_loss = total_test_loss\n",
    "        print(\"..........Saving the model..........\")\n",
    "        torch.save(model.state_dict(),f\"../model/Epoch{i+1}.pt\")"
   ]
  },
  {
   "cell_type": "code",
   "execution_count": 26,
   "id": "322cc097",
   "metadata": {},
   "outputs": [
    {
     "ename": "NameError",
     "evalue": "name 'model' is not defined",
     "output_type": "error",
     "traceback": [
      "\u001b[1;31m---------------------------------------------------------------------------\u001b[0m",
      "\u001b[1;31mNameError\u001b[0m                                 Traceback (most recent call last)",
      "\u001b[1;32m<ipython-input-26-64c02c3df590>\u001b[0m in \u001b[0;36m<module>\u001b[1;34m\u001b[0m\n\u001b[0;32m      3\u001b[0m \u001b[1;32mdel\u001b[0m \u001b[0mscheduler\u001b[0m\u001b[1;33m\u001b[0m\u001b[1;33m\u001b[0m\u001b[0m\n\u001b[0;32m      4\u001b[0m \u001b[1;32mdel\u001b[0m \u001b[0mcriterion\u001b[0m\u001b[1;33m\u001b[0m\u001b[1;33m\u001b[0m\u001b[0m\n\u001b[1;32m----> 5\u001b[1;33m \u001b[1;32mdel\u001b[0m \u001b[0mmodel\u001b[0m\u001b[1;33m\u001b[0m\u001b[1;33m\u001b[0m\u001b[0m\n\u001b[0m\u001b[0;32m      6\u001b[0m \u001b[1;32mdel\u001b[0m \u001b[0mdata_map\u001b[0m\u001b[1;33m\u001b[0m\u001b[1;33m\u001b[0m\u001b[0m\n\u001b[0;32m      7\u001b[0m \u001b[1;32mdel\u001b[0m \u001b[0mlabel\u001b[0m\u001b[1;33m\u001b[0m\u001b[1;33m\u001b[0m\u001b[0m\n",
      "\u001b[1;31mNameError\u001b[0m: name 'model' is not defined"
     ]
    }
   ],
   "source": [
    "# Clear gpu\n",
    "del optimizer\n",
    "del scheduler\n",
    "del criterion\n",
    "del model\n",
    "del data_map\n",
    "del label\n",
    "del label_pred\n",
    "del label_pred_test\n",
    "del loss\n",
    "del data"
   ]
  },
  {
   "cell_type": "code",
   "execution_count": 27,
   "id": "528060df",
   "metadata": {},
   "outputs": [],
   "source": [
    "gc.collect()\n",
    "torch.cuda.empty_cache()"
   ]
  }
 ],
 "metadata": {
  "kernelspec": {
   "display_name": "Python [conda env:anaconda3_environments-pytorch] *",
   "language": "python",
   "name": "conda-env-anaconda3_environments-pytorch-py"
  },
  "language_info": {
   "codemirror_mode": {
    "name": "ipython",
    "version": 3
   },
   "file_extension": ".py",
   "mimetype": "text/x-python",
   "name": "python",
   "nbconvert_exporter": "python",
   "pygments_lexer": "ipython3",
   "version": "3.6.13"
  }
 },
 "nbformat": 4,
 "nbformat_minor": 5
}
