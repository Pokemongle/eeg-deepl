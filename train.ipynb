{
 "cells": [
  {
   "cell_type": "markdown",
   "id": "1f3f61f3",
   "metadata": {},
   "source": [
    "# 1. Necessary Headfiles"
   ]
  },
  {
   "cell_type": "code",
   "execution_count": 14,
   "id": "3c52b7b3",
   "metadata": {},
   "outputs": [],
   "source": [
    "import torch\n",
    "import torchvision\n",
    "# from torch.utils.tensorboard import SummaryWriter\n",
    "import time\n",
    "from torch import nn\n",
    "from torch.utils.data import DataLoader\n",
    "from load_data import MyData  # self-made\n",
    "from torchvision import transforms\n",
    "from tqdm import tqdm_notebook as tqdm # View procedure\n",
    "import os\n",
    "import scipy.io\n",
    "from random import random\n",
    "import numpy as np\n",
    "import gc"
   ]
  },
  {
   "cell_type": "markdown",
   "id": "d5816388",
   "metadata": {},
   "source": [
    "# 2. Prepare Datasets"
   ]
  },
  {
   "cell_type": "markdown",
   "id": "5090b583",
   "metadata": {},
   "source": [
    "## 2.1. Navigate to the data folder "
   ]
  },
  {
   "cell_type": "code",
   "execution_count": 15,
   "id": "0f8e389d",
   "metadata": {},
   "outputs": [],
   "source": [
    "root_dir = \"../eegdata\"\n",
    "# experimental dir: rest, conditionA, conditionB, conditionC\n",
    "exper_dir = \"conditionA\"\n",
    "# condition_dir: hc, mcs, uws\n",
    "condi_dir = \"hc\""
   ]
  },
  {
   "cell_type": "code",
   "execution_count": 16,
   "id": "9897a0f5",
   "metadata": {},
   "outputs": [],
   "source": [
    "# distribution index matrix\n",
    "matrix_index = np.array([\n",
    "    [0,0,2,2,4,4,6,6,8,8,2,2,4,4,6,6,2,4,6,3,3,5,5,3,3,5,5,3,3,2,2,4,4,6,6,1,1,3,3,5,5,7,7,2,2,4,4,6,6,1,1,3,3,5,5,7,7,0,5],\n",
    "    [4,6,3,7,3,7,3,7,4,6,1,9,1,9,1,9,5,5,5,4,6,4,6,2,8,2,8,0,10,4,6,4,6,4,6,4,6,3,7,3,7,4,6,2,8,2,8,2,8,3,7,1,9,1,9,3,7,5,5]\n",
    "])"
   ]
  },
  {
   "cell_type": "markdown",
   "id": "14bc60b2",
   "metadata": {},
   "source": [
    "## 2.2. Load the data"
   ]
  },
  {
   "cell_type": "code",
   "execution_count": null,
   "id": "23a29933",
   "metadata": {
    "scrolled": true
   },
   "outputs": [
    {
     "name": "stderr",
     "output_type": "stream",
     "text": [
      "D:\\Anaconda\\envs\\pytorch\\lib\\site-packages\\ipykernel_launcher.py:6: TqdmDeprecationWarning: This function will be removed in tqdm==5.0.0\n",
      "Please use `tqdm.notebook.tqdm` instead of `tqdm.tqdm_notebook`\n",
      "  \n"
     ]
    },
    {
     "data": {
      "application/vnd.jupyter.widget-view+json": {
       "model_id": "4541726426f8495f9e029afe1aac5d3e",
       "version_major": 2,
       "version_minor": 0
      },
      "text/plain": [
       "  0%|          | 0/20 [00:00<?, ?it/s]"
      ]
     },
     "metadata": {},
     "output_type": "display_data"
    },
    {
     "name": "stderr",
     "output_type": "stream",
     "text": [
      "D:\\Anaconda\\envs\\pytorch\\lib\\site-packages\\ipykernel_launcher.py:20: TqdmDeprecationWarning: This function will be removed in tqdm==5.0.0\n",
      "Please use `tqdm.notebook.tqdm` instead of `tqdm.tqdm_notebook`\n"
     ]
    },
    {
     "data": {
      "application/vnd.jupyter.widget-view+json": {
       "model_id": "c5dd48b9caf74efb8b65db94122d51ea",
       "version_major": 2,
       "version_minor": 0
      },
      "text/plain": [
       "  0%|          | 0/61 [00:00<?, ?it/s]"
      ]
     },
     "metadata": {},
     "output_type": "display_data"
    }
   ],
   "source": [
    "# 设置使用GPU\n",
    "device = torch.device(\"cuda\" if torch.cuda.is_available() else \"cpu\")\n",
    "dataset = MyData(root_dir,exper_dir,condi_dir) # eg.conditionA\\hc\n",
    "\n",
    "data_map_all = None # eg.conditionA\\hc下所有被试map集合\n",
    "for person in tqdm(range(len(dataset))): #12种情况中的1种，其中的所有被试\n",
    "    # filepath是最子文件夹中每个.mat文件的名字\n",
    "    # path是包含当前情况的.mat文件的子文件夹\n",
    "    filename = os.path.join(dataset.path,dataset.file_path[person]) # eg. conditionA\\hc\\hc1.set.mat\n",
    "    data = scipy.io.loadmat(filename)# 读取该被试的数据为字典\n",
    "    data = data['datas']# 键值对读取59*x的数据矩阵\n",
    "    \n",
    "    # 将数据移动到GPU上\n",
    "    data = torch.from_numpy(data).to(device)\n",
    "    \n",
    "    # 在GPU上处理数据\n",
    "    # 创建被试全0map\n",
    "    data_map_person = None \n",
    "    # 遍历该被试的所有段\n",
    "    for para in tqdm(range(data.shape[2])): \n",
    "        # 创建段全0map\n",
    "        data_map_para = None \n",
    "        for point in range(data.shape[1]): # 遍历该段所有数据点\n",
    "            # 创建单个数据点全0map\n",
    "            data_map_point = torch.zeros((10, 11)).to(device) \n",
    "            # 遍历59电极数据并赋值给全0map\n",
    "            for channel in range(data.shape[0]): \n",
    "                data_map_point[matrix_index[0][channel]][matrix_index[1][channel]] = data[channel][point][para]\n",
    "            # 保存单个数据点map到段map\n",
    "            if data_map_para is None:\n",
    "                data_map_para = data_map_point.unsqueeze(0)\n",
    "            else:\n",
    "                data_map_para = torch.cat((data_map_para, data_map_point.unsqueeze(0)), dim=0)\n",
    "        # 保存一段map到被试map\n",
    "        if data_map_person is None:\n",
    "            data_map_person = data_map_para.unsqueeze(0)\n",
    "        else:\n",
    "            data_map_person = torch.cat((data_map_person, data_map_para.unsqueeze(0)), dim=0)\n",
    "    # 保存一个被试map\n",
    "    if data_map_all is None:\n",
    "        data_map_all = data_map_person.unsqueeze(0)\n",
    "    else:\n",
    "        data_map_all = torch.cat((data_map_all, data_map_person), dim=0) # 修改此处\n",
    "    \n",
    "    # 遍历一个被试，清理一次gpu内存\n",
    "    gc.collect()\n",
    "    torch.cuda.empty_cache()\n"
   ]
  },
  {
   "cell_type": "code",
   "execution_count": null,
   "id": "5fb20a0a",
   "metadata": {},
   "outputs": [],
   "source": [
    "print(data_map_all.shape)\n",
    "print(data.shape)\n",
    "print(len(dataset))"
   ]
  },
  {
   "cell_type": "markdown",
   "id": "8ac15ce8",
   "metadata": {},
   "source": [
    "## 2.3 Save the Data"
   ]
  },
  {
   "cell_type": "code",
   "execution_count": 7,
   "id": "37a9a641",
   "metadata": {},
   "outputs": [],
   "source": [
    "torch.save(data_map_all,'..\\eegmap_direct\\conditionA\\A_hc.pt')"
   ]
  },
  {
   "cell_type": "code",
   "execution_count": 155,
   "id": "aedf24c7",
   "metadata": {},
   "outputs": [
    {
     "name": "stdout",
     "output_type": "stream",
     "text": [
      "[[[1. 2.]\n",
      "  [3. 4.]]\n",
      "\n",
      " [[5. 6.]\n",
      "  [7. 8.]]]\n"
     ]
    }
   ],
   "source": [
    "import numpy as np\n",
    "\n",
    "mat_a = np.array([\n",
    "    [1,2,3,4],\n",
    "    [5,6,7,8]\n",
    "])\n",
    "mat_index = np.array([\n",
    "    [0,0,1,1],\n",
    "    [0,1,0,1]\n",
    "])\n",
    "\n",
    "keep_map = None\n",
    "\n",
    "for j in range(mat_a.shape[0]):\n",
    "    map = np.zeros((2,2))\n",
    "    for i in range(mat_a.shape[1]):\n",
    "        map[mat_index[0][i]][mat_index[1][i]] = mat_a[j][i]\n",
    "    if keep_map is None:\n",
    "        keep_map = map[np.newaxis, ...]\n",
    "    else:\n",
    "        keep_map = np.concatenate((keep_map, map[np.newaxis, ...]), axis=0)\n",
    "\n",
    "print(keep_map)\n"
   ]
  },
  {
   "cell_type": "code",
   "execution_count": 157,
   "id": "1ff8d135",
   "metadata": {
    "scrolled": true
   },
   "outputs": [
    {
     "name": "stdout",
     "output_type": "stream",
     "text": [
      "[[5. 6.]\n",
      " [7. 8.]]\n"
     ]
    }
   ],
   "source": [
    "print(keep_map[1])\n"
   ]
  }
 ],
 "metadata": {
  "kernelspec": {
   "display_name": "Python [conda env:pytorch] *",
   "language": "python",
   "name": "conda-env-pytorch-py"
  },
  "language_info": {
   "codemirror_mode": {
    "name": "ipython",
    "version": 3
   },
   "file_extension": ".py",
   "mimetype": "text/x-python",
   "name": "python",
   "nbconvert_exporter": "python",
   "pygments_lexer": "ipython3",
   "version": "3.6.13"
  }
 },
 "nbformat": 4,
 "nbformat_minor": 5
}
